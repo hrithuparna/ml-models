{
 "cells": [
  {
   "cell_type": "code",
   "execution_count": 5,
   "id": "1d3aa068-f5b7-42e5-8009-5964afe8e4c6",
   "metadata": {},
   "outputs": [
    {
     "name": "stdout",
     "output_type": "stream",
     "text": [
      "\n",
      "=== Starting processing for target: pH ===\n",
      "Processing target 'pH' - combinations of size 1 (10 combos)\n"
     ]
    },
    {
     "name": "stderr",
     "output_type": "stream",
     "text": [
      "Size 1 combos: 100%|██████████| 10/10 [00:00<00:00, 358.10it/s]\n"
     ]
    },
    {
     "name": "stdout",
     "output_type": "stream",
     "text": [
      "Processing target 'pH' - combinations of size 2 (45 combos)\n"
     ]
    },
    {
     "name": "stderr",
     "output_type": "stream",
     "text": [
      "Size 2 combos: 100%|██████████| 45/45 [00:00<00:00, 2148.38it/s]\n"
     ]
    },
    {
     "name": "stdout",
     "output_type": "stream",
     "text": [
      "Checkpoint saved: results_pH_up_to_size_2.parquet\n",
      "Processing target 'pH' - combinations of size 3 (120 combos)\n"
     ]
    },
    {
     "name": "stderr",
     "output_type": "stream",
     "text": [
      "Size 3 combos: 100%|██████████| 120/120 [00:00<00:00, 3540.62it/s]\n"
     ]
    },
    {
     "name": "stdout",
     "output_type": "stream",
     "text": [
      "Checkpoint saved: results_pH_up_to_size_3.parquet\n",
      "Processing target 'pH' - combinations of size 4 (210 combos)\n"
     ]
    },
    {
     "name": "stderr",
     "output_type": "stream",
     "text": [
      "Size 4 combos: 100%|██████████| 210/210 [00:00<00:00, 3142.72it/s]\n"
     ]
    },
    {
     "name": "stdout",
     "output_type": "stream",
     "text": [
      "Checkpoint saved: results_pH_up_to_size_4.parquet\n",
      "Processing target 'pH' - combinations of size 5 (252 combos)\n"
     ]
    },
    {
     "name": "stderr",
     "output_type": "stream",
     "text": [
      "Size 5 combos: 100%|██████████| 252/252 [00:00<00:00, 3461.29it/s]\n"
     ]
    },
    {
     "name": "stdout",
     "output_type": "stream",
     "text": [
      "Checkpoint saved: results_pH_up_to_size_5.parquet\n",
      "Processing target 'pH' - combinations of size 6 (210 combos)\n"
     ]
    },
    {
     "name": "stderr",
     "output_type": "stream",
     "text": [
      "Size 6 combos: 100%|██████████| 210/210 [00:00<00:00, 3007.92it/s]\n"
     ]
    },
    {
     "name": "stdout",
     "output_type": "stream",
     "text": [
      "Checkpoint saved: results_pH_up_to_size_6.parquet\n",
      "Processing target 'pH' - combinations of size 7 (120 combos)\n"
     ]
    },
    {
     "name": "stderr",
     "output_type": "stream",
     "text": [
      "Size 7 combos: 100%|██████████| 120/120 [00:00<00:00, 3085.07it/s]\n"
     ]
    },
    {
     "name": "stdout",
     "output_type": "stream",
     "text": [
      "Checkpoint saved: results_pH_up_to_size_7.parquet\n",
      "Processing target 'pH' - combinations of size 8 (45 combos)\n"
     ]
    },
    {
     "name": "stderr",
     "output_type": "stream",
     "text": [
      "Size 8 combos: 100%|██████████| 45/45 [00:00<00:00, 2255.84it/s]\n"
     ]
    },
    {
     "name": "stdout",
     "output_type": "stream",
     "text": [
      "Checkpoint saved: results_pH_up_to_size_8.parquet\n",
      "Processing target 'pH' - combinations of size 9 (10 combos)\n"
     ]
    },
    {
     "name": "stderr",
     "output_type": "stream",
     "text": [
      "Size 9 combos: 100%|██████████| 10/10 [00:00<00:00, 9675.44it/s]\n"
     ]
    },
    {
     "name": "stdout",
     "output_type": "stream",
     "text": [
      "Checkpoint saved: results_pH_up_to_size_9.parquet\n",
      "Processing target 'pH' - combinations of size 10 (1 combos)\n"
     ]
    },
    {
     "name": "stderr",
     "output_type": "stream",
     "text": [
      "Size 10 combos: 100%|██████████| 1/1 [00:00<00:00, 1002.46it/s]\n"
     ]
    },
    {
     "name": "stdout",
     "output_type": "stream",
     "text": [
      "Checkpoint saved: results_pH_up_to_size_10.parquet\n",
      "\n",
      "=== Starting processing for target: Temperatur ===\n",
      "Processing target 'Temperatur' - combinations of size 1 (10 combos)\n"
     ]
    },
    {
     "name": "stderr",
     "output_type": "stream",
     "text": [
      "Size 1 combos: 100%|██████████| 10/10 [00:00<00:00, 10036.62it/s]\n"
     ]
    },
    {
     "name": "stdout",
     "output_type": "stream",
     "text": [
      "Processing target 'Temperatur' - combinations of size 2 (45 combos)\n"
     ]
    },
    {
     "name": "stderr",
     "output_type": "stream",
     "text": [
      "Size 2 combos: 100%|██████████| 45/45 [00:00<00:00, 2654.40it/s]\n"
     ]
    },
    {
     "name": "stdout",
     "output_type": "stream",
     "text": [
      "Checkpoint saved: results_Temperatur_up_to_size_2.parquet\n",
      "Processing target 'Temperatur' - combinations of size 3 (120 combos)\n"
     ]
    },
    {
     "name": "stderr",
     "output_type": "stream",
     "text": [
      "Size 3 combos: 100%|██████████| 120/120 [00:00<00:00, 3646.53it/s]\n"
     ]
    },
    {
     "name": "stdout",
     "output_type": "stream",
     "text": [
      "Checkpoint saved: results_Temperatur_up_to_size_3.parquet\n",
      "Processing target 'Temperatur' - combinations of size 4 (210 combos)\n"
     ]
    },
    {
     "name": "stderr",
     "output_type": "stream",
     "text": [
      "Size 4 combos: 100%|██████████| 210/210 [00:00<00:00, 3342.23it/s]\n"
     ]
    },
    {
     "name": "stdout",
     "output_type": "stream",
     "text": [
      "Checkpoint saved: results_Temperatur_up_to_size_4.parquet\n",
      "Processing target 'Temperatur' - combinations of size 5 (252 combos)\n"
     ]
    },
    {
     "name": "stderr",
     "output_type": "stream",
     "text": [
      "Size 5 combos: 100%|██████████| 252/252 [00:00<00:00, 3715.73it/s]\n"
     ]
    },
    {
     "name": "stdout",
     "output_type": "stream",
     "text": [
      "Checkpoint saved: results_Temperatur_up_to_size_5.parquet\n",
      "Processing target 'Temperatur' - combinations of size 6 (210 combos)\n"
     ]
    },
    {
     "name": "stderr",
     "output_type": "stream",
     "text": [
      "Size 6 combos: 100%|██████████| 210/210 [00:00<00:00, 2924.55it/s]\n"
     ]
    },
    {
     "name": "stdout",
     "output_type": "stream",
     "text": [
      "Checkpoint saved: results_Temperatur_up_to_size_6.parquet\n",
      "Processing target 'Temperatur' - combinations of size 7 (120 combos)\n"
     ]
    },
    {
     "name": "stderr",
     "output_type": "stream",
     "text": [
      "Size 7 combos: 100%|██████████| 120/120 [00:00<00:00, 2455.61it/s]\n"
     ]
    },
    {
     "name": "stdout",
     "output_type": "stream",
     "text": [
      "Checkpoint saved: results_Temperatur_up_to_size_7.parquet\n",
      "Processing target 'Temperatur' - combinations of size 8 (45 combos)\n"
     ]
    },
    {
     "name": "stderr",
     "output_type": "stream",
     "text": [
      "Size 8 combos: 100%|██████████| 45/45 [00:00<00:00, 2050.96it/s]\n"
     ]
    },
    {
     "name": "stdout",
     "output_type": "stream",
     "text": [
      "Checkpoint saved: results_Temperatur_up_to_size_8.parquet\n",
      "Processing target 'Temperatur' - combinations of size 9 (10 combos)\n"
     ]
    },
    {
     "name": "stderr",
     "output_type": "stream",
     "text": [
      "Size 9 combos: 100%|██████████| 10/10 [00:00<?, ?it/s]\n"
     ]
    },
    {
     "name": "stdout",
     "output_type": "stream",
     "text": [
      "Checkpoint saved: results_Temperatur_up_to_size_9.parquet\n",
      "Processing target 'Temperatur' - combinations of size 10 (1 combos)\n"
     ]
    },
    {
     "name": "stderr",
     "output_type": "stream",
     "text": [
      "Size 10 combos: 100%|██████████| 1/1 [00:00<00:00, 1003.66it/s]\n"
     ]
    },
    {
     "name": "stdout",
     "output_type": "stream",
     "text": [
      "Checkpoint saved: results_Temperatur_up_to_size_10.parquet\n",
      "\n",
      "=== Starting processing for target: Fluoride ===\n",
      "Processing target 'Fluoride' - combinations of size 1 (10 combos)\n"
     ]
    },
    {
     "name": "stderr",
     "output_type": "stream",
     "text": [
      "Size 1 combos: 100%|██████████| 10/10 [00:00<00:00, 10000.72it/s]\n"
     ]
    },
    {
     "name": "stdout",
     "output_type": "stream",
     "text": [
      "Checkpoint saved: results_Fluoride_up_to_size_1.parquet\n",
      "Processing target 'Fluoride' - combinations of size 2 (45 combos)\n"
     ]
    },
    {
     "name": "stderr",
     "output_type": "stream",
     "text": [
      "Size 2 combos: 100%|██████████| 45/45 [00:00<00:00, 2256.16it/s]\n"
     ]
    },
    {
     "name": "stdout",
     "output_type": "stream",
     "text": [
      "Checkpoint saved: results_Fluoride_up_to_size_2.parquet\n",
      "Processing target 'Fluoride' - combinations of size 3 (120 combos)\n"
     ]
    },
    {
     "name": "stderr",
     "output_type": "stream",
     "text": [
      "Size 3 combos: 100%|██████████| 120/120 [00:00<00:00, 3251.90it/s]\n"
     ]
    },
    {
     "name": "stdout",
     "output_type": "stream",
     "text": [
      "Checkpoint saved: results_Fluoride_up_to_size_3.parquet\n",
      "Processing target 'Fluoride' - combinations of size 4 (210 combos)\n"
     ]
    },
    {
     "name": "stderr",
     "output_type": "stream",
     "text": [
      "Size 4 combos: 100%|██████████| 210/210 [00:00<00:00, 3288.73it/s]\n"
     ]
    },
    {
     "name": "stdout",
     "output_type": "stream",
     "text": [
      "Checkpoint saved: results_Fluoride_up_to_size_4.parquet\n",
      "Processing target 'Fluoride' - combinations of size 5 (252 combos)\n"
     ]
    },
    {
     "name": "stderr",
     "output_type": "stream",
     "text": [
      "Size 5 combos: 100%|██████████| 252/252 [00:00<00:00, 3828.40it/s]\n"
     ]
    },
    {
     "name": "stdout",
     "output_type": "stream",
     "text": [
      "Checkpoint saved: results_Fluoride_up_to_size_5.parquet\n",
      "Processing target 'Fluoride' - combinations of size 6 (210 combos)\n"
     ]
    },
    {
     "name": "stderr",
     "output_type": "stream",
     "text": [
      "Size 6 combos: 100%|██████████| 210/210 [00:00<00:00, 2845.41it/s]\n"
     ]
    },
    {
     "name": "stdout",
     "output_type": "stream",
     "text": [
      "Checkpoint saved: results_Fluoride_up_to_size_6.parquet\n",
      "Processing target 'Fluoride' - combinations of size 7 (120 combos)\n"
     ]
    },
    {
     "name": "stderr",
     "output_type": "stream",
     "text": [
      "Size 7 combos: 100%|██████████| 120/120 [00:00<00:00, 3251.84it/s]\n"
     ]
    },
    {
     "name": "stdout",
     "output_type": "stream",
     "text": [
      "Checkpoint saved: results_Fluoride_up_to_size_7.parquet\n",
      "Processing target 'Fluoride' - combinations of size 8 (45 combos)\n"
     ]
    },
    {
     "name": "stderr",
     "output_type": "stream",
     "text": [
      "Size 8 combos: 100%|██████████| 45/45 [00:00<00:00, 2654.47it/s]\n"
     ]
    },
    {
     "name": "stdout",
     "output_type": "stream",
     "text": [
      "Checkpoint saved: results_Fluoride_up_to_size_8.parquet\n",
      "Processing target 'Fluoride' - combinations of size 9 (10 combos)\n"
     ]
    },
    {
     "name": "stderr",
     "output_type": "stream",
     "text": [
      "Size 9 combos: 100%|██████████| 10/10 [00:00<00:00, 10392.23it/s]\n"
     ]
    },
    {
     "name": "stdout",
     "output_type": "stream",
     "text": [
      "Checkpoint saved: results_Fluoride_up_to_size_9.parquet\n",
      "Processing target 'Fluoride' - combinations of size 10 (1 combos)\n"
     ]
    },
    {
     "name": "stderr",
     "output_type": "stream",
     "text": [
      "Size 10 combos: 100%|██████████| 1/1 [00:00<00:00, 1004.38it/s]\n"
     ]
    },
    {
     "name": "stdout",
     "output_type": "stream",
     "text": [
      "Checkpoint saved: results_Fluoride_up_to_size_10.parquet\n",
      "\n",
      "=== Starting processing for target: DO ===\n",
      "Processing target 'DO' - combinations of size 1 (10 combos)\n"
     ]
    },
    {
     "name": "stderr",
     "output_type": "stream",
     "text": [
      "Size 1 combos: 100%|██████████| 10/10 [00:00<00:00, 10031.82it/s]\n"
     ]
    },
    {
     "name": "stdout",
     "output_type": "stream",
     "text": [
      "Processing target 'DO' - combinations of size 2 (45 combos)\n"
     ]
    },
    {
     "name": "stderr",
     "output_type": "stream",
     "text": [
      "Size 2 combos: 100%|██████████| 45/45 [00:00<00:00, 2148.65it/s]\n"
     ]
    },
    {
     "name": "stdout",
     "output_type": "stream",
     "text": [
      "Processing target 'DO' - combinations of size 3 (120 combos)\n"
     ]
    },
    {
     "name": "stderr",
     "output_type": "stream",
     "text": [
      "Size 3 combos: 100%|██████████| 120/120 [00:00<00:00, 3645.90it/s]\n"
     ]
    },
    {
     "name": "stdout",
     "output_type": "stream",
     "text": [
      "Processing target 'DO' - combinations of size 4 (210 combos)\n"
     ]
    },
    {
     "name": "stderr",
     "output_type": "stream",
     "text": [
      "Size 4 combos: 100%|██████████| 210/210 [00:00<00:00, 3342.25it/s]\n"
     ]
    },
    {
     "name": "stdout",
     "output_type": "stream",
     "text": [
      "Processing target 'DO' - combinations of size 5 (252 combos)\n"
     ]
    },
    {
     "name": "stderr",
     "output_type": "stream",
     "text": [
      "Size 5 combos: 100%|██████████| 252/252 [00:00<00:00, 4010.66it/s]\n"
     ]
    },
    {
     "name": "stdout",
     "output_type": "stream",
     "text": [
      "Processing target 'DO' - combinations of size 6 (210 combos)\n"
     ]
    },
    {
     "name": "stderr",
     "output_type": "stream",
     "text": [
      "Size 6 combos: 100%|██████████| 210/210 [00:00<00:00, 3239.32it/s]\n"
     ]
    },
    {
     "name": "stdout",
     "output_type": "stream",
     "text": [
      "Processing target 'DO' - combinations of size 7 (120 combos)\n"
     ]
    },
    {
     "name": "stderr",
     "output_type": "stream",
     "text": [
      "Size 7 combos: 100%|██████████| 120/120 [00:00<00:00, 3345.25it/s]\n"
     ]
    },
    {
     "name": "stdout",
     "output_type": "stream",
     "text": [
      "Processing target 'DO' - combinations of size 8 (45 combos)\n"
     ]
    },
    {
     "name": "stderr",
     "output_type": "stream",
     "text": [
      "Size 8 combos: 100%|██████████| 45/45 [00:00<00:00, 2660.12it/s]\n"
     ]
    },
    {
     "name": "stdout",
     "output_type": "stream",
     "text": [
      "Processing target 'DO' - combinations of size 9 (10 combos)\n"
     ]
    },
    {
     "name": "stderr",
     "output_type": "stream",
     "text": [
      "Size 9 combos: 100%|██████████| 10/10 [00:00<?, ?it/s]\n"
     ]
    },
    {
     "name": "stdout",
     "output_type": "stream",
     "text": [
      "Processing target 'DO' - combinations of size 10 (1 combos)\n"
     ]
    },
    {
     "name": "stderr",
     "output_type": "stream",
     "text": [
      "Size 10 combos: 100%|██████████| 1/1 [00:00<00:00, 1002.46it/s]\n"
     ]
    },
    {
     "name": "stdout",
     "output_type": "stream",
     "text": [
      "No valid models found for target 'DO'.\n",
      "\n",
      "=== Starting processing for target: Residual_C ===\n",
      "Processing target 'Residual_C' - combinations of size 1 (10 combos)\n"
     ]
    },
    {
     "name": "stderr",
     "output_type": "stream",
     "text": [
      "Size 1 combos: 100%|██████████| 10/10 [00:00<?, ?it/s]\n"
     ]
    },
    {
     "name": "stdout",
     "output_type": "stream",
     "text": [
      "Processing target 'Residual_C' - combinations of size 2 (45 combos)\n"
     ]
    },
    {
     "name": "stderr",
     "output_type": "stream",
     "text": [
      "Size 2 combos: 100%|██████████| 45/45 [00:00<00:00, 2821.49it/s]\n"
     ]
    },
    {
     "name": "stdout",
     "output_type": "stream",
     "text": [
      "Processing target 'Residual_C' - combinations of size 3 (120 combos)\n"
     ]
    },
    {
     "name": "stderr",
     "output_type": "stream",
     "text": [
      "Size 3 combos: 100%|██████████| 120/120 [00:00<00:00, 3884.30it/s]\n"
     ]
    },
    {
     "name": "stdout",
     "output_type": "stream",
     "text": [
      "Processing target 'Residual_C' - combinations of size 4 (210 combos)\n"
     ]
    },
    {
     "name": "stderr",
     "output_type": "stream",
     "text": [
      "Size 4 combos: 100%|██████████| 210/210 [00:00<00:00, 3509.19it/s]\n"
     ]
    },
    {
     "name": "stdout",
     "output_type": "stream",
     "text": [
      "Processing target 'Residual_C' - combinations of size 5 (252 combos)\n"
     ]
    },
    {
     "name": "stderr",
     "output_type": "stream",
     "text": [
      "Size 5 combos: 100%|██████████| 252/252 [00:00<00:00, 4010.51it/s]\n"
     ]
    },
    {
     "name": "stdout",
     "output_type": "stream",
     "text": [
      "Processing target 'Residual_C' - combinations of size 6 (210 combos)\n"
     ]
    },
    {
     "name": "stderr",
     "output_type": "stream",
     "text": [
      "Size 6 combos: 100%|██████████| 210/210 [00:00<00:00, 3239.33it/s]\n"
     ]
    },
    {
     "name": "stdout",
     "output_type": "stream",
     "text": [
      "Processing target 'Residual_C' - combinations of size 7 (120 combos)\n"
     ]
    },
    {
     "name": "stderr",
     "output_type": "stream",
     "text": [
      "Size 7 combos: 100%|██████████| 120/120 [00:00<00:00, 3535.49it/s]\n"
     ]
    },
    {
     "name": "stdout",
     "output_type": "stream",
     "text": [
      "Processing target 'Residual_C' - combinations of size 8 (45 combos)\n"
     ]
    },
    {
     "name": "stderr",
     "output_type": "stream",
     "text": [
      "Size 8 combos: 100%|██████████| 45/45 [00:00<00:00, 2502.07it/s]\n"
     ]
    },
    {
     "name": "stdout",
     "output_type": "stream",
     "text": [
      "Processing target 'Residual_C' - combinations of size 9 (10 combos)\n"
     ]
    },
    {
     "name": "stderr",
     "output_type": "stream",
     "text": [
      "Size 9 combos: 100%|██████████| 10/10 [00:00<00:00, 10024.63it/s]\n"
     ]
    },
    {
     "name": "stdout",
     "output_type": "stream",
     "text": [
      "Processing target 'Residual_C' - combinations of size 10 (1 combos)\n"
     ]
    },
    {
     "name": "stderr",
     "output_type": "stream",
     "text": [
      "Size 10 combos: 100%|██████████| 1/1 [00:00<00:00, 966.65it/s]\n"
     ]
    },
    {
     "name": "stdout",
     "output_type": "stream",
     "text": [
      "No valid models found for target 'Residual_C'.\n",
      "\n",
      "=== Starting processing for target: Phosphorou ===\n",
      "Processing target 'Phosphorou' - combinations of size 1 (10 combos)\n"
     ]
    },
    {
     "name": "stderr",
     "output_type": "stream",
     "text": [
      "Size 1 combos: 100%|██████████| 10/10 [00:00<00:00, 9988.82it/s]\n"
     ]
    },
    {
     "name": "stdout",
     "output_type": "stream",
     "text": [
      "Processing target 'Phosphorou' - combinations of size 2 (45 combos)\n"
     ]
    },
    {
     "name": "stderr",
     "output_type": "stream",
     "text": [
      "Size 2 combos: 100%|██████████| 45/45 [00:00<00:00, 2260.84it/s]\n"
     ]
    },
    {
     "name": "stdout",
     "output_type": "stream",
     "text": [
      "Processing target 'Phosphorou' - combinations of size 3 (120 combos)\n"
     ]
    },
    {
     "name": "stderr",
     "output_type": "stream",
     "text": [
      "Size 3 combos: 100%|██████████| 120/120 [00:00<00:00, 3882.78it/s]\n"
     ]
    },
    {
     "name": "stdout",
     "output_type": "stream",
     "text": [
      "Processing target 'Phosphorou' - combinations of size 4 (210 combos)\n"
     ]
    },
    {
     "name": "stderr",
     "output_type": "stream",
     "text": [
      "Size 4 combos: 100%|██████████| 210/210 [00:00<00:00, 3190.47it/s]\n"
     ]
    },
    {
     "name": "stdout",
     "output_type": "stream",
     "text": [
      "Processing target 'Phosphorou' - combinations of size 5 (252 combos)\n"
     ]
    },
    {
     "name": "stderr",
     "output_type": "stream",
     "text": [
      "Size 5 combos: 100%|██████████| 252/252 [00:00<00:00, 3663.74it/s]\n"
     ]
    },
    {
     "name": "stdout",
     "output_type": "stream",
     "text": [
      "Processing target 'Phosphorou' - combinations of size 6 (210 combos)\n"
     ]
    },
    {
     "name": "stderr",
     "output_type": "stream",
     "text": [
      "Size 6 combos: 100%|██████████| 210/210 [00:00<00:00, 2924.47it/s]\n"
     ]
    },
    {
     "name": "stdout",
     "output_type": "stream",
     "text": [
      "Processing target 'Phosphorou' - combinations of size 7 (120 combos)\n"
     ]
    },
    {
     "name": "stderr",
     "output_type": "stream",
     "text": [
      "Size 7 combos: 100%|██████████| 120/120 [00:00<00:00, 2455.38it/s]\n"
     ]
    },
    {
     "name": "stdout",
     "output_type": "stream",
     "text": [
      "Processing target 'Phosphorou' - combinations of size 8 (45 combos)\n"
     ]
    },
    {
     "name": "stderr",
     "output_type": "stream",
     "text": [
      "Size 8 combos: 100%|██████████| 45/45 [00:00<00:00, 2506.92it/s]\n"
     ]
    },
    {
     "name": "stdout",
     "output_type": "stream",
     "text": [
      "Processing target 'Phosphorou' - combinations of size 9 (10 combos)\n"
     ]
    },
    {
     "name": "stderr",
     "output_type": "stream",
     "text": [
      "Size 9 combos: 100%|██████████| 10/10 [00:00<00:00, 10022.23it/s]\n"
     ]
    },
    {
     "name": "stdout",
     "output_type": "stream",
     "text": [
      "Processing target 'Phosphorou' - combinations of size 10 (1 combos)\n"
     ]
    },
    {
     "name": "stderr",
     "output_type": "stream",
     "text": [
      "Size 10 combos: 100%|██████████| 1/1 [00:00<?, ?it/s]\n"
     ]
    },
    {
     "name": "stdout",
     "output_type": "stream",
     "text": [
      "No valid models found for target 'Phosphorou'.\n",
      "\n",
      "=== Starting processing for target: Nitrate ===\n",
      "Processing target 'Nitrate' - combinations of size 1 (10 combos)\n"
     ]
    },
    {
     "name": "stderr",
     "output_type": "stream",
     "text": [
      "Size 1 combos: 100%|██████████| 10/10 [00:00<00:00, 10397.38it/s]\n"
     ]
    },
    {
     "name": "stdout",
     "output_type": "stream",
     "text": [
      "Processing target 'Nitrate' - combinations of size 2 (45 combos)\n"
     ]
    },
    {
     "name": "stderr",
     "output_type": "stream",
     "text": [
      "Size 2 combos: 100%|██████████| 45/45 [00:00<00:00, 2050.78it/s]\n"
     ]
    },
    {
     "name": "stdout",
     "output_type": "stream",
     "text": [
      "Processing target 'Nitrate' - combinations of size 3 (120 combos)\n"
     ]
    },
    {
     "name": "stderr",
     "output_type": "stream",
     "text": [
      "Size 3 combos: 100%|██████████| 120/120 [00:00<00:00, 3345.74it/s]\n"
     ]
    },
    {
     "name": "stdout",
     "output_type": "stream",
     "text": [
      "Processing target 'Nitrate' - combinations of size 4 (210 combos)\n"
     ]
    },
    {
     "name": "stderr",
     "output_type": "stream",
     "text": [
      "Size 4 combos: 100%|██████████| 210/210 [00:00<00:00, 3342.33it/s]\n"
     ]
    },
    {
     "name": "stdout",
     "output_type": "stream",
     "text": [
      "Processing target 'Nitrate' - combinations of size 5 (252 combos)\n"
     ]
    },
    {
     "name": "stderr",
     "output_type": "stream",
     "text": [
      "Size 5 combos: 100%|██████████| 252/252 [00:00<00:00, 3715.57it/s]\n"
     ]
    },
    {
     "name": "stdout",
     "output_type": "stream",
     "text": [
      "Processing target 'Nitrate' - combinations of size 6 (210 combos)\n"
     ]
    },
    {
     "name": "stderr",
     "output_type": "stream",
     "text": [
      "Size 6 combos: 100%|██████████| 210/210 [00:00<00:00, 3051.43it/s]\n"
     ]
    },
    {
     "name": "stdout",
     "output_type": "stream",
     "text": [
      "Processing target 'Nitrate' - combinations of size 7 (120 combos)\n"
     ]
    },
    {
     "name": "stderr",
     "output_type": "stream",
     "text": [
      "Size 7 combos: 100%|██████████| 120/120 [00:00<00:00, 3169.20it/s]\n"
     ]
    },
    {
     "name": "stdout",
     "output_type": "stream",
     "text": [
      "Processing target 'Nitrate' - combinations of size 8 (45 combos)\n"
     ]
    },
    {
     "name": "stderr",
     "output_type": "stream",
     "text": [
      "Size 8 combos: 100%|██████████| 45/45 [00:00<00:00, 2152.35it/s]\n"
     ]
    },
    {
     "name": "stdout",
     "output_type": "stream",
     "text": [
      "Processing target 'Nitrate' - combinations of size 9 (10 combos)\n"
     ]
    },
    {
     "name": "stderr",
     "output_type": "stream",
     "text": [
      "Size 9 combos: 100%|██████████| 10/10 [00:00<?, ?it/s]\n"
     ]
    },
    {
     "name": "stdout",
     "output_type": "stream",
     "text": [
      "Processing target 'Nitrate' - combinations of size 10 (1 combos)\n"
     ]
    },
    {
     "name": "stderr",
     "output_type": "stream",
     "text": [
      "Size 10 combos: 100%|██████████| 1/1 [00:00<00:00, 999.36it/s]\n"
     ]
    },
    {
     "name": "stdout",
     "output_type": "stream",
     "text": [
      "No valid models found for target 'Nitrate'.\n",
      "\n",
      "=== Starting processing for target: Iron ===\n",
      "Processing target 'Iron' - combinations of size 1 (10 combos)\n"
     ]
    },
    {
     "name": "stderr",
     "output_type": "stream",
     "text": [
      "Size 1 combos: 100%|██████████| 10/10 [00:00<00:00, 10027.02it/s]\n"
     ]
    },
    {
     "name": "stdout",
     "output_type": "stream",
     "text": [
      "Processing target 'Iron' - combinations of size 2 (45 combos)\n"
     ]
    },
    {
     "name": "stderr",
     "output_type": "stream",
     "text": [
      "Size 2 combos: 100%|██████████| 45/45 [00:00<00:00, 1957.35it/s]\n"
     ]
    },
    {
     "name": "stdout",
     "output_type": "stream",
     "text": [
      "Processing target 'Iron' - combinations of size 3 (120 combos)\n"
     ]
    },
    {
     "name": "stderr",
     "output_type": "stream",
     "text": [
      "Size 3 combos: 100%|██████████| 120/120 [00:00<00:00, 3084.95it/s]\n"
     ]
    },
    {
     "name": "stdout",
     "output_type": "stream",
     "text": [
      "Processing target 'Iron' - combinations of size 4 (210 combos)\n"
     ]
    },
    {
     "name": "stderr",
     "output_type": "stream",
     "text": [
      "Size 4 combos: 100%|██████████| 210/210 [00:00<00:00, 3396.12it/s]\n"
     ]
    },
    {
     "name": "stdout",
     "output_type": "stream",
     "text": [
      "Processing target 'Iron' - combinations of size 5 (252 combos)\n"
     ]
    },
    {
     "name": "stderr",
     "output_type": "stream",
     "text": [
      "Size 5 combos: 100%|██████████| 252/252 [00:00<00:00, 3887.27it/s]\n"
     ]
    },
    {
     "name": "stdout",
     "output_type": "stream",
     "text": [
      "Processing target 'Iron' - combinations of size 6 (210 combos)\n"
     ]
    },
    {
     "name": "stderr",
     "output_type": "stream",
     "text": [
      "Size 6 combos: 100%|██████████| 210/210 [00:00<00:00, 1880.46it/s]\n"
     ]
    },
    {
     "name": "stdout",
     "output_type": "stream",
     "text": [
      "Processing target 'Iron' - combinations of size 7 (120 combos)\n"
     ]
    },
    {
     "name": "stderr",
     "output_type": "stream",
     "text": [
      "Size 7 combos: 100%|██████████| 120/120 [00:00<00:00, 3437.77it/s]\n"
     ]
    },
    {
     "name": "stdout",
     "output_type": "stream",
     "text": [
      "Processing target 'Iron' - combinations of size 8 (45 combos)\n"
     ]
    },
    {
     "name": "stderr",
     "output_type": "stream",
     "text": [
      "Size 8 combos: 100%|██████████| 45/45 [00:00<00:00, 2375.21it/s]\n"
     ]
    },
    {
     "name": "stdout",
     "output_type": "stream",
     "text": [
      "Processing target 'Iron' - combinations of size 9 (10 combos)\n"
     ]
    },
    {
     "name": "stderr",
     "output_type": "stream",
     "text": [
      "Size 9 combos: 100%|██████████| 10/10 [00:00<?, ?it/s]\n"
     ]
    },
    {
     "name": "stdout",
     "output_type": "stream",
     "text": [
      "Processing target 'Iron' - combinations of size 10 (1 combos)\n"
     ]
    },
    {
     "name": "stderr",
     "output_type": "stream",
     "text": [
      "Size 10 combos: 100%|██████████| 1/1 [00:00<?, ?it/s]\n"
     ]
    },
    {
     "name": "stdout",
     "output_type": "stream",
     "text": [
      "No valid models found for target 'Iron'.\n",
      "\n",
      "=== Starting processing for target: Hardness ===\n",
      "Processing target 'Hardness' - combinations of size 1 (10 combos)\n"
     ]
    },
    {
     "name": "stderr",
     "output_type": "stream",
     "text": [
      "Size 1 combos: 100%|██████████| 10/10 [00:00<00:00, 10046.24it/s]\n"
     ]
    },
    {
     "name": "stdout",
     "output_type": "stream",
     "text": [
      "Processing target 'Hardness' - combinations of size 2 (45 combos)\n"
     ]
    },
    {
     "name": "stderr",
     "output_type": "stream",
     "text": [
      "Size 2 combos: 100%|██████████| 45/45 [00:00<00:00, 2050.69it/s]\n"
     ]
    },
    {
     "name": "stdout",
     "output_type": "stream",
     "text": [
      "Processing target 'Hardness' - combinations of size 3 (120 combos)\n"
     ]
    },
    {
     "name": "stderr",
     "output_type": "stream",
     "text": [
      "Size 3 combos: 100%|██████████| 120/120 [00:00<00:00, 3650.47it/s]\n"
     ]
    },
    {
     "name": "stdout",
     "output_type": "stream",
     "text": [
      "Processing target 'Hardness' - combinations of size 4 (210 combos)\n"
     ]
    },
    {
     "name": "stderr",
     "output_type": "stream",
     "text": [
      "Size 4 combos: 100%|██████████| 210/210 [00:00<00:00, 3396.13it/s]\n"
     ]
    },
    {
     "name": "stdout",
     "output_type": "stream",
     "text": [
      "Processing target 'Hardness' - combinations of size 5 (252 combos)\n"
     ]
    },
    {
     "name": "stderr",
     "output_type": "stream",
     "text": [
      "Size 5 combos: 100%|██████████| 252/252 [00:00<00:00, 3715.81it/s]\n"
     ]
    },
    {
     "name": "stdout",
     "output_type": "stream",
     "text": [
      "Processing target 'Hardness' - combinations of size 6 (210 combos)\n"
     ]
    },
    {
     "name": "stderr",
     "output_type": "stream",
     "text": [
      "Size 6 combos: 100%|██████████| 210/210 [00:00<00:00, 3142.69it/s]\n"
     ]
    },
    {
     "name": "stdout",
     "output_type": "stream",
     "text": [
      "Processing target 'Hardness' - combinations of size 7 (120 combos)\n"
     ]
    },
    {
     "name": "stderr",
     "output_type": "stream",
     "text": [
      "Size 7 combos: 100%|██████████| 120/120 [00:00<00:00, 3436.97it/s]\n"
     ]
    },
    {
     "name": "stdout",
     "output_type": "stream",
     "text": [
      "Processing target 'Hardness' - combinations of size 8 (45 combos)\n"
     ]
    },
    {
     "name": "stderr",
     "output_type": "stream",
     "text": [
      "Size 8 combos: 100%|██████████| 45/45 [00:00<00:00, 2148.57it/s]\n"
     ]
    },
    {
     "name": "stdout",
     "output_type": "stream",
     "text": [
      "Processing target 'Hardness' - combinations of size 9 (10 combos)\n"
     ]
    },
    {
     "name": "stderr",
     "output_type": "stream",
     "text": [
      "Size 9 combos: 100%|██████████| 10/10 [00:00<00:00, 9878.25it/s]\n"
     ]
    },
    {
     "name": "stdout",
     "output_type": "stream",
     "text": [
      "Processing target 'Hardness' - combinations of size 10 (1 combos)\n"
     ]
    },
    {
     "name": "stderr",
     "output_type": "stream",
     "text": [
      "Size 10 combos: 100%|██████████| 1/1 [00:00<?, ?it/s]\n"
     ]
    },
    {
     "name": "stdout",
     "output_type": "stream",
     "text": [
      "No valid models found for target 'Hardness'.\n",
      "\n",
      "=== Starting processing for target: Chlorides ===\n",
      "Processing target 'Chlorides' - combinations of size 1 (10 combos)\n"
     ]
    },
    {
     "name": "stderr",
     "output_type": "stream",
     "text": [
      "Size 1 combos: 100%|██████████| 10/10 [00:00<00:00, 10007.88it/s]\n"
     ]
    },
    {
     "name": "stdout",
     "output_type": "stream",
     "text": [
      "Processing target 'Chlorides' - combinations of size 2 (45 combos)\n"
     ]
    },
    {
     "name": "stderr",
     "output_type": "stream",
     "text": [
      "Size 2 combos: 100%|██████████| 45/45 [00:00<00:00, 1960.57it/s]\n"
     ]
    },
    {
     "name": "stdout",
     "output_type": "stream",
     "text": [
      "Processing target 'Chlorides' - combinations of size 3 (120 combos)\n"
     ]
    },
    {
     "name": "stderr",
     "output_type": "stream",
     "text": [
      "Size 3 combos: 100%|██████████| 120/120 [00:00<00:00, 3345.43it/s]\n"
     ]
    },
    {
     "name": "stdout",
     "output_type": "stream",
     "text": [
      "Processing target 'Chlorides' - combinations of size 4 (210 combos)\n"
     ]
    },
    {
     "name": "stderr",
     "output_type": "stream",
     "text": [
      "Size 4 combos: 100%|██████████| 210/210 [00:00<00:00, 3340.69it/s]\n"
     ]
    },
    {
     "name": "stdout",
     "output_type": "stream",
     "text": [
      "Processing target 'Chlorides' - combinations of size 5 (252 combos)\n"
     ]
    },
    {
     "name": "stderr",
     "output_type": "stream",
     "text": [
      "Size 5 combos: 100%|██████████| 252/252 [00:00<00:00, 3198.32it/s]\n"
     ]
    },
    {
     "name": "stdout",
     "output_type": "stream",
     "text": [
      "Processing target 'Chlorides' - combinations of size 6 (210 combos)\n"
     ]
    },
    {
     "name": "stderr",
     "output_type": "stream",
     "text": [
      "Size 6 combos: 100%|██████████| 210/210 [00:00<00:00, 2770.50it/s]\n"
     ]
    },
    {
     "name": "stdout",
     "output_type": "stream",
     "text": [
      "Processing target 'Chlorides' - combinations of size 7 (120 combos)\n"
     ]
    },
    {
     "name": "stderr",
     "output_type": "stream",
     "text": [
      "Size 7 combos: 100%|██████████| 120/120 [00:00<00:00, 3250.66it/s]\n"
     ]
    },
    {
     "name": "stdout",
     "output_type": "stream",
     "text": [
      "Processing target 'Chlorides' - combinations of size 8 (45 combos)\n"
     ]
    },
    {
     "name": "stderr",
     "output_type": "stream",
     "text": [
      "Size 8 combos: 100%|██████████| 45/45 [00:00<00:00, 1906.69it/s]\n"
     ]
    },
    {
     "name": "stdout",
     "output_type": "stream",
     "text": [
      "Processing target 'Chlorides' - combinations of size 9 (10 combos)\n"
     ]
    },
    {
     "name": "stderr",
     "output_type": "stream",
     "text": [
      "Size 9 combos: 100%|██████████| 10/10 [00:00<?, ?it/s]\n"
     ]
    },
    {
     "name": "stdout",
     "output_type": "stream",
     "text": [
      "Processing target 'Chlorides' - combinations of size 10 (1 combos)\n"
     ]
    },
    {
     "name": "stderr",
     "output_type": "stream",
     "text": [
      "Size 10 combos: 100%|██████████| 1/1 [00:00<00:00, 1002.22it/s]\n"
     ]
    },
    {
     "name": "stdout",
     "output_type": "stream",
     "text": [
      "No valid models found for target 'Chlorides'.\n",
      "\n",
      "=== Starting processing for target: Ammonia ===\n",
      "Processing target 'Ammonia' - combinations of size 1 (10 combos)\n"
     ]
    },
    {
     "name": "stderr",
     "output_type": "stream",
     "text": [
      "Size 1 combos: 100%|██████████| 10/10 [00:00<00:00, 10019.84it/s]\n"
     ]
    },
    {
     "name": "stdout",
     "output_type": "stream",
     "text": [
      "Processing target 'Ammonia' - combinations of size 2 (45 combos)\n"
     ]
    },
    {
     "name": "stderr",
     "output_type": "stream",
     "text": [
      "Size 2 combos: 100%|██████████| 45/45 [00:00<00:00, 1961.69it/s]\n"
     ]
    },
    {
     "name": "stdout",
     "output_type": "stream",
     "text": [
      "Processing target 'Ammonia' - combinations of size 3 (120 combos)\n"
     ]
    },
    {
     "name": "stderr",
     "output_type": "stream",
     "text": [
      "Size 3 combos: 100%|██████████| 120/120 [00:00<00:00, 3008.29it/s]\n"
     ]
    },
    {
     "name": "stdout",
     "output_type": "stream",
     "text": [
      "Processing target 'Ammonia' - combinations of size 4 (210 combos)\n"
     ]
    },
    {
     "name": "stderr",
     "output_type": "stream",
     "text": [
      "Size 4 combos: 100%|██████████| 210/210 [00:00<00:00, 2845.51it/s]\n"
     ]
    },
    {
     "name": "stdout",
     "output_type": "stream",
     "text": [
      "Processing target 'Ammonia' - combinations of size 5 (252 combos)\n"
     ]
    },
    {
     "name": "stderr",
     "output_type": "stream",
     "text": [
      "Size 5 combos: 100%|██████████| 252/252 [00:00<00:00, 3239.31it/s]\n"
     ]
    },
    {
     "name": "stdout",
     "output_type": "stream",
     "text": [
      "Processing target 'Ammonia' - combinations of size 6 (210 combos)\n"
     ]
    },
    {
     "name": "stderr",
     "output_type": "stream",
     "text": [
      "Size 6 combos: 100%|██████████| 210/210 [00:00<00:00, 2567.75it/s]\n"
     ]
    },
    {
     "name": "stdout",
     "output_type": "stream",
     "text": [
      "Processing target 'Ammonia' - combinations of size 7 (120 combos)\n"
     ]
    },
    {
     "name": "stderr",
     "output_type": "stream",
     "text": [
      "Size 7 combos: 100%|██████████| 120/120 [00:00<00:00, 3085.18it/s]\n"
     ]
    },
    {
     "name": "stdout",
     "output_type": "stream",
     "text": [
      "Processing target 'Ammonia' - combinations of size 8 (45 combos)\n"
     ]
    },
    {
     "name": "stderr",
     "output_type": "stream",
     "text": [
      "Size 8 combos: 100%|██████████| 45/45 [00:00<00:00, 2005.22it/s]\n"
     ]
    },
    {
     "name": "stdout",
     "output_type": "stream",
     "text": [
      "Processing target 'Ammonia' - combinations of size 9 (10 combos)\n"
     ]
    },
    {
     "name": "stderr",
     "output_type": "stream",
     "text": [
      "Size 9 combos: 100%|██████████| 10/10 [00:00<?, ?it/s]\n"
     ]
    },
    {
     "name": "stdout",
     "output_type": "stream",
     "text": [
      "Processing target 'Ammonia' - combinations of size 10 (1 combos)\n"
     ]
    },
    {
     "name": "stderr",
     "output_type": "stream",
     "text": [
      "Size 10 combos: 100%|██████████| 1/1 [00:00<?, ?it/s]\n"
     ]
    },
    {
     "name": "stdout",
     "output_type": "stream",
     "text": [
      "No valid models found for target 'Ammonia'.\n",
      "\n",
      "=== Starting processing for target: Trubidity ===\n",
      "Processing target 'Trubidity' - combinations of size 1 (10 combos)\n"
     ]
    },
    {
     "name": "stderr",
     "output_type": "stream",
     "text": [
      "Size 1 combos: 100%|██████████| 10/10 [00:00<?, ?it/s]\n"
     ]
    },
    {
     "name": "stdout",
     "output_type": "stream",
     "text": [
      "Checkpoint saved: results_Trubidity_up_to_size_1.parquet\n",
      "Processing target 'Trubidity' - combinations of size 2 (45 combos)\n"
     ]
    },
    {
     "name": "stderr",
     "output_type": "stream",
     "text": [
      "Size 2 combos: 100%|██████████| 45/45 [00:00<00:00, 2257.21it/s]\n"
     ]
    },
    {
     "name": "stdout",
     "output_type": "stream",
     "text": [
      "Checkpoint saved: results_Trubidity_up_to_size_2.parquet\n",
      "Processing target 'Trubidity' - combinations of size 3 (120 combos)\n"
     ]
    },
    {
     "name": "stderr",
     "output_type": "stream",
     "text": [
      "Size 3 combos: 100%|██████████| 120/120 [00:00<00:00, 3085.11it/s]\n"
     ]
    },
    {
     "name": "stdout",
     "output_type": "stream",
     "text": [
      "Checkpoint saved: results_Trubidity_up_to_size_3.parquet\n",
      "Processing target 'Trubidity' - combinations of size 4 (210 combos)\n"
     ]
    },
    {
     "name": "stderr",
     "output_type": "stream",
     "text": [
      "Size 4 combos: 100%|██████████| 210/210 [00:00<00:00, 3142.82it/s]\n"
     ]
    },
    {
     "name": "stdout",
     "output_type": "stream",
     "text": [
      "Checkpoint saved: results_Trubidity_up_to_size_4.parquet\n",
      "Processing target 'Trubidity' - combinations of size 5 (252 combos)\n"
     ]
    },
    {
     "name": "stderr",
     "output_type": "stream",
     "text": [
      "Size 5 combos: 100%|██████████| 252/252 [00:00<00:00, 3715.67it/s]\n"
     ]
    },
    {
     "name": "stdout",
     "output_type": "stream",
     "text": [
      "Checkpoint saved: results_Trubidity_up_to_size_5.parquet\n",
      "Processing target 'Trubidity' - combinations of size 6 (210 combos)\n"
     ]
    },
    {
     "name": "stderr",
     "output_type": "stream",
     "text": [
      "Size 6 combos: 100%|██████████| 210/210 [00:00<00:00, 2506.73it/s]\n"
     ]
    },
    {
     "name": "stdout",
     "output_type": "stream",
     "text": [
      "Checkpoint saved: results_Trubidity_up_to_size_6.parquet\n",
      "Processing target 'Trubidity' - combinations of size 7 (120 combos)\n"
     ]
    },
    {
     "name": "stderr",
     "output_type": "stream",
     "text": [
      "Size 7 combos: 100%|██████████| 120/120 [00:00<00:00, 2734.46it/s]\n"
     ]
    },
    {
     "name": "stdout",
     "output_type": "stream",
     "text": [
      "Checkpoint saved: results_Trubidity_up_to_size_7.parquet\n",
      "Processing target 'Trubidity' - combinations of size 8 (45 combos)\n"
     ]
    },
    {
     "name": "stderr",
     "output_type": "stream",
     "text": [
      "Size 8 combos: 100%|██████████| 45/45 [00:00<00:00, 1503.96it/s]\n"
     ]
    },
    {
     "name": "stdout",
     "output_type": "stream",
     "text": [
      "Checkpoint saved: results_Trubidity_up_to_size_8.parquet\n",
      "Processing target 'Trubidity' - combinations of size 9 (10 combos)\n"
     ]
    },
    {
     "name": "stderr",
     "output_type": "stream",
     "text": [
      "Size 9 combos: 100%|██████████| 10/10 [00:00<00:00, 10000.72it/s]\n"
     ]
    },
    {
     "name": "stdout",
     "output_type": "stream",
     "text": [
      "Checkpoint saved: results_Trubidity_up_to_size_9.parquet\n",
      "Processing target 'Trubidity' - combinations of size 10 (1 combos)\n"
     ]
    },
    {
     "name": "stderr",
     "output_type": "stream",
     "text": [
      "Size 10 combos: 100%|██████████| 1/1 [00:00<?, ?it/s]\n"
     ]
    },
    {
     "name": "stdout",
     "output_type": "stream",
     "text": [
      "Checkpoint saved: results_Trubidity_up_to_size_10.parquet\n",
      "\n",
      "=== Starting processing for target: Alkalinity ===\n",
      "Processing target 'Alkalinity' - combinations of size 1 (10 combos)\n"
     ]
    },
    {
     "name": "stderr",
     "output_type": "stream",
     "text": [
      "Size 1 combos: 100%|██████████| 10/10 [00:00<00:00, 10034.22it/s]\n"
     ]
    },
    {
     "name": "stdout",
     "output_type": "stream",
     "text": [
      "Processing target 'Alkalinity' - combinations of size 2 (45 combos)\n"
     ]
    },
    {
     "name": "stderr",
     "output_type": "stream",
     "text": [
      "Size 2 combos: 100%|██████████| 45/45 [00:00<00:00, 2256.05it/s]\n"
     ]
    },
    {
     "name": "stdout",
     "output_type": "stream",
     "text": [
      "Processing target 'Alkalinity' - combinations of size 3 (120 combos)\n"
     ]
    },
    {
     "name": "stderr",
     "output_type": "stream",
     "text": [
      "Size 3 combos: 100%|██████████| 120/120 [00:00<00:00, 3437.53it/s]\n"
     ]
    },
    {
     "name": "stdout",
     "output_type": "stream",
     "text": [
      "Processing target 'Alkalinity' - combinations of size 4 (210 combos)\n"
     ]
    },
    {
     "name": "stderr",
     "output_type": "stream",
     "text": [
      "Size 4 combos: 100%|██████████| 210/210 [00:00<00:00, 3142.64it/s]\n"
     ]
    },
    {
     "name": "stdout",
     "output_type": "stream",
     "text": [
      "Processing target 'Alkalinity' - combinations of size 5 (252 combos)\n"
     ]
    },
    {
     "name": "stderr",
     "output_type": "stream",
     "text": [
      "Size 5 combos: 100%|██████████| 252/252 [00:00<00:00, 3414.64it/s]\n"
     ]
    },
    {
     "name": "stdout",
     "output_type": "stream",
     "text": [
      "Processing target 'Alkalinity' - combinations of size 6 (210 combos)\n"
     ]
    },
    {
     "name": "stderr",
     "output_type": "stream",
     "text": [
      "Size 6 combos: 100%|██████████| 210/210 [00:00<00:00, 3051.57it/s]\n"
     ]
    },
    {
     "name": "stdout",
     "output_type": "stream",
     "text": [
      "Processing target 'Alkalinity' - combinations of size 7 (120 combos)\n"
     ]
    },
    {
     "name": "stderr",
     "output_type": "stream",
     "text": [
      "Size 7 combos: 100%|██████████| 120/120 [00:00<00:00, 3164.08it/s]\n"
     ]
    },
    {
     "name": "stdout",
     "output_type": "stream",
     "text": [
      "Processing target 'Alkalinity' - combinations of size 8 (45 combos)\n"
     ]
    },
    {
     "name": "stderr",
     "output_type": "stream",
     "text": [
      "Size 8 combos: 100%|██████████| 45/45 [00:00<00:00, 2148.33it/s]\n"
     ]
    },
    {
     "name": "stdout",
     "output_type": "stream",
     "text": [
      "Processing target 'Alkalinity' - combinations of size 9 (10 combos)\n"
     ]
    },
    {
     "name": "stderr",
     "output_type": "stream",
     "text": [
      "Size 9 combos: 100%|██████████| 10/10 [00:00<?, ?it/s]\n"
     ]
    },
    {
     "name": "stdout",
     "output_type": "stream",
     "text": [
      "Processing target 'Alkalinity' - combinations of size 10 (1 combos)\n"
     ]
    },
    {
     "name": "stderr",
     "output_type": "stream",
     "text": [
      "Size 10 combos: 100%|██████████| 1/1 [00:00<00:00, 1004.38it/s]\n"
     ]
    },
    {
     "name": "stdout",
     "output_type": "stream",
     "text": [
      "No valid models found for target 'Alkalinity'.\n",
      "\n",
      "=== Starting processing for target: EC ===\n",
      "Processing target 'EC' - combinations of size 1 (10 combos)\n"
     ]
    },
    {
     "name": "stderr",
     "output_type": "stream",
     "text": [
      "Size 1 combos: 100%|██████████| 10/10 [00:00<00:00, 10165.55it/s]\n"
     ]
    },
    {
     "name": "stdout",
     "output_type": "stream",
     "text": [
      "Processing target 'EC' - combinations of size 2 (45 combos)\n"
     ]
    },
    {
     "name": "stderr",
     "output_type": "stream",
     "text": [
      "Size 2 combos: 100%|██████████| 45/45 [00:00<00:00, 2161.86it/s]\n"
     ]
    },
    {
     "name": "stdout",
     "output_type": "stream",
     "text": [
      "Checkpoint saved: results_EC_up_to_size_2.parquet\n",
      "Processing target 'EC' - combinations of size 3 (120 combos)\n"
     ]
    },
    {
     "name": "stderr",
     "output_type": "stream",
     "text": [
      "Size 3 combos: 100%|██████████| 120/120 [00:00<00:00, 3251.99it/s]\n"
     ]
    },
    {
     "name": "stdout",
     "output_type": "stream",
     "text": [
      "Checkpoint saved: results_EC_up_to_size_3.parquet\n",
      "Processing target 'EC' - combinations of size 4 (210 combos)\n"
     ]
    },
    {
     "name": "stderr",
     "output_type": "stream",
     "text": [
      "Size 4 combos: 100%|██████████| 210/210 [00:00<00:00, 3096.43it/s]\n"
     ]
    },
    {
     "name": "stdout",
     "output_type": "stream",
     "text": [
      "Checkpoint saved: results_EC_up_to_size_4.parquet\n",
      "Processing target 'EC' - combinations of size 5 (252 combos)\n"
     ]
    },
    {
     "name": "stderr",
     "output_type": "stream",
     "text": [
      "Size 5 combos: 100%|██████████| 252/252 [00:00<00:00, 3659.88it/s]\n"
     ]
    },
    {
     "name": "stdout",
     "output_type": "stream",
     "text": [
      "Checkpoint saved: results_EC_up_to_size_5.parquet\n",
      "Processing target 'EC' - combinations of size 6 (210 combos)\n"
     ]
    },
    {
     "name": "stderr",
     "output_type": "stream",
     "text": [
      "Size 6 combos: 100%|██████████| 210/210 [00:00<00:00, 3052.93it/s]\n"
     ]
    },
    {
     "name": "stdout",
     "output_type": "stream",
     "text": [
      "Checkpoint saved: results_EC_up_to_size_6.parquet\n",
      "Processing target 'EC' - combinations of size 7 (120 combos)\n"
     ]
    },
    {
     "name": "stderr",
     "output_type": "stream",
     "text": [
      "Size 7 combos: 100%|██████████| 120/120 [00:00<00:00, 3085.11it/s]\n"
     ]
    },
    {
     "name": "stdout",
     "output_type": "stream",
     "text": [
      "Checkpoint saved: results_EC_up_to_size_7.parquet\n",
      "Processing target 'EC' - combinations of size 8 (45 combos)\n"
     ]
    },
    {
     "name": "stderr",
     "output_type": "stream",
     "text": [
      "Size 8 combos: 100%|██████████| 45/45 [00:00<00:00, 2378.71it/s]\n"
     ]
    },
    {
     "name": "stdout",
     "output_type": "stream",
     "text": [
      "Checkpoint saved: results_EC_up_to_size_8.parquet\n",
      "Processing target 'EC' - combinations of size 9 (10 combos)\n"
     ]
    },
    {
     "name": "stderr",
     "output_type": "stream",
     "text": [
      "Size 9 combos: 100%|██████████| 10/10 [00:00<?, ?it/s]\n"
     ]
    },
    {
     "name": "stdout",
     "output_type": "stream",
     "text": [
      "Checkpoint saved: results_EC_up_to_size_9.parquet\n",
      "Processing target 'EC' - combinations of size 10 (1 combos)\n"
     ]
    },
    {
     "name": "stderr",
     "output_type": "stream",
     "text": [
      "Size 10 combos: 100%|██████████| 1/1 [00:00<00:00, 1003.90it/s]\n"
     ]
    },
    {
     "name": "stdout",
     "output_type": "stream",
     "text": [
      "Checkpoint saved: results_EC_up_to_size_10.parquet\n",
      "\n",
      "=== Starting processing for target: TDS ===\n",
      "Processing target 'TDS' - combinations of size 1 (10 combos)\n"
     ]
    },
    {
     "name": "stderr",
     "output_type": "stream",
     "text": [
      "Size 1 combos: 100%|██████████| 10/10 [00:00<00:00, 10338.44it/s]\n"
     ]
    },
    {
     "name": "stdout",
     "output_type": "stream",
     "text": [
      "Processing target 'TDS' - combinations of size 2 (45 combos)\n"
     ]
    },
    {
     "name": "stderr",
     "output_type": "stream",
     "text": [
      "Size 2 combos: 100%|██████████| 45/45 [00:00<00:00, 2374.67it/s]\n"
     ]
    },
    {
     "name": "stdout",
     "output_type": "stream",
     "text": [
      "Checkpoint saved: results_TDS_up_to_size_2.parquet\n",
      "Processing target 'TDS' - combinations of size 3 (120 combos)\n"
     ]
    },
    {
     "name": "stderr",
     "output_type": "stream",
     "text": [
      "Size 3 combos: 100%|██████████| 120/120 [00:00<00:00, 3881.76it/s]\n"
     ]
    },
    {
     "name": "stdout",
     "output_type": "stream",
     "text": [
      "Checkpoint saved: results_TDS_up_to_size_3.parquet\n",
      "Processing target 'TDS' - combinations of size 4 (210 combos)\n"
     ]
    },
    {
     "name": "stderr",
     "output_type": "stream",
     "text": [
      "Size 4 combos: 100%|██████████| 210/210 [00:00<00:00, 3051.59it/s]\n"
     ]
    },
    {
     "name": "stdout",
     "output_type": "stream",
     "text": [
      "Checkpoint saved: results_TDS_up_to_size_4.parquet\n",
      "Processing target 'TDS' - combinations of size 5 (252 combos)\n"
     ]
    },
    {
     "name": "stderr",
     "output_type": "stream",
     "text": [
      "Size 5 combos: 100%|██████████| 252/252 [00:00<00:00, 3771.24it/s]\n"
     ]
    },
    {
     "name": "stdout",
     "output_type": "stream",
     "text": [
      "Checkpoint saved: results_TDS_up_to_size_5.parquet\n",
      "Processing target 'TDS' - combinations of size 6 (210 combos)\n"
     ]
    },
    {
     "name": "stderr",
     "output_type": "stream",
     "text": [
      "Size 6 combos: 100%|██████████| 210/210 [00:00<00:00, 2884.38it/s]\n"
     ]
    },
    {
     "name": "stdout",
     "output_type": "stream",
     "text": [
      "Checkpoint saved: results_TDS_up_to_size_6.parquet\n",
      "Processing target 'TDS' - combinations of size 7 (120 combos)\n"
     ]
    },
    {
     "name": "stderr",
     "output_type": "stream",
     "text": [
      "Size 7 combos: 100%|██████████| 120/120 [00:00<00:00, 3166.19it/s]\n"
     ]
    },
    {
     "name": "stdout",
     "output_type": "stream",
     "text": [
      "Checkpoint saved: results_TDS_up_to_size_7.parquet\n",
      "Processing target 'TDS' - combinations of size 8 (45 combos)\n"
     ]
    },
    {
     "name": "stderr",
     "output_type": "stream",
     "text": [
      "Size 8 combos: 100%|██████████| 45/45 [00:00<00:00, 2379.04it/s]\n"
     ]
    },
    {
     "name": "stdout",
     "output_type": "stream",
     "text": [
      "Checkpoint saved: results_TDS_up_to_size_8.parquet\n",
      "Processing target 'TDS' - combinations of size 9 (10 combos)\n"
     ]
    },
    {
     "name": "stderr",
     "output_type": "stream",
     "text": [
      "Size 9 combos: 100%|██████████| 10/10 [00:00<?, ?it/s]\n"
     ]
    },
    {
     "name": "stdout",
     "output_type": "stream",
     "text": [
      "Checkpoint saved: results_TDS_up_to_size_9.parquet\n",
      "Processing target 'TDS' - combinations of size 10 (1 combos)\n"
     ]
    },
    {
     "name": "stderr",
     "output_type": "stream",
     "text": [
      "Size 10 combos: 100%|██████████| 1/1 [00:00<00:00, 1041.29it/s]\n"
     ]
    },
    {
     "name": "stdout",
     "output_type": "stream",
     "text": [
      "Checkpoint saved: results_TDS_up_to_size_10.parquet\n",
      "Results saved to ols_model_results.csv (0.01 MB)\n",
      "All computations completed.\n"
     ]
    }
   ],
   "source": [
    "import pandas as pd\n",
    "import statsmodels.api as sm\n",
    "from itertools import combinations\n",
    "from sklearn.model_selection import KFold\n",
    "from sklearn.metrics import mean_squared_error\n",
    "from math import sqrt\n",
    "from joblib import Parallel, delayed\n",
    "from tqdm import tqdm\n",
    "import os\n",
    "\n",
    "def evaluate_combo(X, y, combo, cv_splits=5):\n",
    "    \"\"\"\n",
    "    Evaluate a single variable combination with k-fold CV.\n",
    "    Fits OLS on training folds, checks p-values, computes RMSE and adjusted R² on each fold.\n",
    "    Returns metrics if all predictor p-values < 0.05 in each fold; else None.\n",
    "    \"\"\"\n",
    "    X_sub = X[list(combo)]\n",
    "    X_sub = sm.add_constant(X_sub)\n",
    "    kf = KFold(n_splits=cv_splits, shuffle=True, random_state=42)\n",
    "\n",
    "    rmses = []\n",
    "    adj_r2s = []\n",
    "    p_values_valid = True\n",
    "    coefs = None\n",
    "    pvals = None\n",
    "\n",
    "    for train_idx, test_idx in kf.split(X_sub):\n",
    "        X_train, X_test = X_sub.iloc[train_idx], X_sub.iloc[test_idx]\n",
    "        y_train, y_test = y.iloc[train_idx], y.iloc[test_idx]\n",
    "\n",
    "        try:\n",
    "            model = sm.OLS(y_train, X_train).fit()\n",
    "        except Exception as e:\n",
    "            # Model failed to fit, discard this combo\n",
    "            p_values_valid = False\n",
    "            break\n",
    "\n",
    "        # Check all predictors (except const) p-values < 0.05\n",
    "        if (model.pvalues.drop('const') >= 0.05).any():\n",
    "            p_values_valid = False\n",
    "            break\n",
    "\n",
    "        preds = model.predict(X_test)\n",
    "        rmse = sqrt(mean_squared_error(y_test, preds))\n",
    "        rmses.append(rmse)\n",
    "        adj_r2s.append(model.rsquared_adj)\n",
    "\n",
    "        # Keep last fold’s coefficients and p-values for reporting\n",
    "        coefs = model.params.to_dict()\n",
    "        pvals = model.pvalues.to_dict()\n",
    "\n",
    "    if not p_values_valid:\n",
    "        return None\n",
    "\n",
    "    return {\n",
    "        'variables': combo,\n",
    "        'mean_cv_rmse': sum(rmses) / len(rmses),\n",
    "        'mean_cv_adj_r2': sum(adj_r2s) / len(adj_r2s),\n",
    "        'coefficients': coefs,\n",
    "        'pvalues': pvals\n",
    "    }\n",
    "\n",
    "def process_target(X, y, target_name, n_jobs=4, max_combination_size=None):\n",
    "    \"\"\"\n",
    "    Process all variable combinations for a single target variable.\n",
    "    Saves intermediate results after each combination size.\n",
    "    Returns a DataFrame of results.\n",
    "    \"\"\"\n",
    "    results = []\n",
    "    max_size = max_combination_size or len(X.columns)\n",
    "\n",
    "    for size in range(1, max_size + 1):\n",
    "        combos = list(combinations(X.columns, size))\n",
    "        print(f\"Processing target '{target_name}' - combinations of size {size} ({len(combos)} combos)\")\n",
    "        \n",
    "        batch_results = Parallel(n_jobs=n_jobs)(\n",
    "            delayed(evaluate_combo)(X, y, combo) for combo in tqdm(combos, desc=f\"Size {size} combos\")\n",
    "        )\n",
    "\n",
    "        # Filter out None results (failed p-value or fit)\n",
    "        batch_results = [res for res in batch_results if res is not None]\n",
    "\n",
    "        # Add target name for each result\n",
    "        for res in batch_results:\n",
    "            res['target'] = target_name\n",
    "\n",
    "        results.extend(batch_results)\n",
    "\n",
    "        # Save checkpoint after each size\n",
    "        if results:\n",
    "            df = pd.DataFrame(results)\n",
    "            checkpoint_path = f'results_{target_name}_up_to_size_{size}.parquet'\n",
    "            df.to_parquet(checkpoint_path, index=False)\n",
    "            print(f\"Checkpoint saved: {checkpoint_path}\")\n",
    "\n",
    "    if results:\n",
    "        return pd.DataFrame(results)\n",
    "    else:\n",
    "        return pd.DataFrame()  # empty if no valid models\n",
    "\n",
    "def save_results(df, filename_csv='ols_model_results.csv', filename_parquet='ols_model_results.parquet'):\n",
    "    \"\"\"\n",
    "    Save the results DataFrame to CSV or Parquet depending on size.\n",
    "    Prints status messages.\n",
    "    \"\"\"\n",
    "    if df.empty:\n",
    "        print(\"No valid models found.\")\n",
    "        return\n",
    "\n",
    "    df.to_csv(filename_csv, index=False)\n",
    "    file_size = os.path.getsize(filename_csv)\n",
    "    size_mb = file_size / (1024*1024)\n",
    "\n",
    "    if size_mb > 5:  # 5 MB threshold for switching to Parquet\n",
    "        df.to_parquet(filename_parquet, index=False)\n",
    "        os.remove(filename_csv)\n",
    "        print(f\"Results saved to {filename_parquet} ({size_mb:.2f} MB)\")\n",
    "    else:\n",
    "        print(f\"Results saved to {filename_csv} ({size_mb:.2f} MB)\")\n",
    "\n",
    "def main():\n",
    "    # Load data\n",
    "    X = pd.read_excel(r\"C:\\Users\\Administrator\\Desktop\\dataforcode\\sent2(GYr).xlsx\")\n",
    "    Y = pd.read_csv(r\"C:\\Users\\Administrator\\Desktop\\code\\band to band\\sentinel 2\\sparameters.csv.\")\n",
    "\n",
    "    all_results = []\n",
    "\n",
    "    # You can adjust n_jobs based on your CPU cores\n",
    "    n_jobs = 6\n",
    "    max_comb_size = None  # or set to e.g. 5 to limit computation\n",
    "\n",
    "    for target in Y.columns:\n",
    "        print(f\"\\n=== Starting processing for target: {target} ===\")\n",
    "        y = Y[target]\n",
    "        df_target_results = process_target(X, y, target, n_jobs=n_jobs, max_combination_size=max_comb_size)\n",
    "        if not df_target_results.empty:\n",
    "            all_results.append(df_target_results)\n",
    "        else:\n",
    "            print(f\"No valid models found for target '{target}'.\")\n",
    "\n",
    "    if all_results:\n",
    "        final_df = pd.concat(all_results, ignore_index=True)\n",
    "        save_results(final_df)\n",
    "    else:\n",
    "        print(\"No valid models found for any target.\")\n",
    "\n",
    "    print(\"All computations completed.\")\n",
    "\n",
    "if __name__ == \"__main__\":\n",
    "    main()\n"
   ]
  },
  {
   "cell_type": "code",
   "execution_count": 1,
   "id": "f40b3430-f3cb-4a8b-8e33-48a448bf4405",
   "metadata": {},
   "outputs": [
    {
     "name": "stdout",
     "output_type": "stream",
     "text": [
      "\n",
      "=== Starting processing for target: pH ===\n",
      "Processing target 'pH' - combinations of size 1 (8 combos)\n"
     ]
    },
    {
     "name": "stderr",
     "output_type": "stream",
     "text": [
      "Size 1 combos: 100%|██████████| 8/8 [00:00<00:00, 235.92it/s]\n"
     ]
    },
    {
     "name": "stdout",
     "output_type": "stream",
     "text": [
      "Processing target 'pH' - combinations of size 2 (28 combos)\n"
     ]
    },
    {
     "name": "stderr",
     "output_type": "stream",
     "text": [
      "Size 2 combos: 100%|██████████| 28/28 [00:00<00:00, 2004.62it/s]\n"
     ]
    },
    {
     "name": "stdout",
     "output_type": "stream",
     "text": [
      "Processing target 'pH' - combinations of size 3 (56 combos)\n"
     ]
    },
    {
     "name": "stderr",
     "output_type": "stream",
     "text": [
      "Size 3 combos: 100%|██████████| 56/56 [00:00<00:00, 2807.16it/s]\n"
     ]
    },
    {
     "name": "stdout",
     "output_type": "stream",
     "text": [
      "Processing target 'pH' - combinations of size 4 (70 combos)\n"
     ]
    },
    {
     "name": "stderr",
     "output_type": "stream",
     "text": [
      "Size 4 combos: 100%|██████████| 70/70 [00:00<00:00, 3056.09it/s]\n"
     ]
    },
    {
     "name": "stdout",
     "output_type": "stream",
     "text": [
      "Processing target 'pH' - combinations of size 5 (56 combos)\n"
     ]
    },
    {
     "name": "stderr",
     "output_type": "stream",
     "text": [
      "Size 5 combos: 100%|██████████| 56/56 [00:00<00:00, 3119.10it/s]\n"
     ]
    },
    {
     "name": "stdout",
     "output_type": "stream",
     "text": [
      "Processing target 'pH' - combinations of size 6 (28 combos)\n"
     ]
    },
    {
     "name": "stderr",
     "output_type": "stream",
     "text": [
      "Size 6 combos: 100%|██████████| 28/28 [00:00<00:00, 2339.03it/s]\n"
     ]
    },
    {
     "name": "stdout",
     "output_type": "stream",
     "text": [
      "Processing target 'pH' - combinations of size 7 (8 combos)\n"
     ]
    },
    {
     "name": "stderr",
     "output_type": "stream",
     "text": [
      "Size 7 combos: 100%|██████████| 8/8 [00:00<?, ?it/s]\n"
     ]
    },
    {
     "name": "stdout",
     "output_type": "stream",
     "text": [
      "Processing target 'pH' - combinations of size 8 (1 combos)\n"
     ]
    },
    {
     "name": "stderr",
     "output_type": "stream",
     "text": [
      "Size 8 combos: 100%|██████████| 1/1 [00:00<?, ?it/s]\n"
     ]
    },
    {
     "name": "stdout",
     "output_type": "stream",
     "text": [
      "No valid models found for target 'pH'.\n",
      "\n",
      "=== Starting processing for target: Temperatur ===\n",
      "Processing target 'Temperatur' - combinations of size 1 (8 combos)\n"
     ]
    },
    {
     "name": "stderr",
     "output_type": "stream",
     "text": [
      "Size 1 combos: 100%|██████████| 8/8 [00:00<00:00, 7998.67it/s]\n"
     ]
    },
    {
     "name": "stdout",
     "output_type": "stream",
     "text": [
      "Processing target 'Temperatur' - combinations of size 2 (28 combos)\n"
     ]
    },
    {
     "name": "stderr",
     "output_type": "stream",
     "text": [
      "Size 2 combos: 100%|██████████| 28/28 [00:00<00:00, 1655.16it/s]\n"
     ]
    },
    {
     "name": "stdout",
     "output_type": "stream",
     "text": [
      "Processing target 'Temperatur' - combinations of size 3 (56 combos)\n"
     ]
    },
    {
     "name": "stderr",
     "output_type": "stream",
     "text": [
      "Size 3 combos: 100%|██████████| 56/56 [00:00<00:00, 2673.81it/s]\n"
     ]
    },
    {
     "name": "stdout",
     "output_type": "stream",
     "text": [
      "Processing target 'Temperatur' - combinations of size 4 (70 combos)\n"
     ]
    },
    {
     "name": "stderr",
     "output_type": "stream",
     "text": [
      "Size 4 combos: 100%|██████████| 70/70 [00:00<00:00, 2807.33it/s]\n"
     ]
    },
    {
     "name": "stdout",
     "output_type": "stream",
     "text": [
      "Processing target 'Temperatur' - combinations of size 5 (56 combos)\n"
     ]
    },
    {
     "name": "stderr",
     "output_type": "stream",
     "text": [
      "Size 5 combos: 100%|██████████| 56/56 [00:00<00:00, 3119.10it/s]\n"
     ]
    },
    {
     "name": "stdout",
     "output_type": "stream",
     "text": [
      "Processing target 'Temperatur' - combinations of size 6 (28 combos)\n"
     ]
    },
    {
     "name": "stderr",
     "output_type": "stream",
     "text": [
      "Size 6 combos: 100%|██████████| 28/28 [00:00<00:00, 1651.14it/s]\n"
     ]
    },
    {
     "name": "stdout",
     "output_type": "stream",
     "text": [
      "Processing target 'Temperatur' - combinations of size 7 (8 combos)\n"
     ]
    },
    {
     "name": "stderr",
     "output_type": "stream",
     "text": [
      "Size 7 combos: 100%|██████████| 8/8 [00:00<00:00, 8010.13it/s]\n"
     ]
    },
    {
     "name": "stdout",
     "output_type": "stream",
     "text": [
      "Processing target 'Temperatur' - combinations of size 8 (1 combos)\n"
     ]
    },
    {
     "name": "stderr",
     "output_type": "stream",
     "text": [
      "Size 8 combos: 100%|██████████| 1/1 [00:00<00:00, 1000.79it/s]\n"
     ]
    },
    {
     "name": "stdout",
     "output_type": "stream",
     "text": [
      "No valid models found for target 'Temperatur'.\n",
      "\n",
      "=== Starting processing for target: Fluoride ===\n",
      "Processing target 'Fluoride' - combinations of size 1 (8 combos)\n"
     ]
    },
    {
     "name": "stderr",
     "output_type": "stream",
     "text": [
      "Size 1 combos: 100%|██████████| 8/8 [00:00<00:00, 8025.46it/s]\n"
     ]
    },
    {
     "name": "stdout",
     "output_type": "stream",
     "text": [
      "Processing target 'Fluoride' - combinations of size 2 (28 combos)\n"
     ]
    },
    {
     "name": "stderr",
     "output_type": "stream",
     "text": [
      "Size 2 combos: 100%|██████████| 28/28 [00:00<00:00, 2339.45it/s]\n"
     ]
    },
    {
     "name": "stdout",
     "output_type": "stream",
     "text": [
      "Processing target 'Fluoride' - combinations of size 3 (56 combos)\n"
     ]
    },
    {
     "name": "stderr",
     "output_type": "stream",
     "text": [
      "Size 3 combos: 100%|██████████| 56/56 [00:00<00:00, 3744.26it/s]\n"
     ]
    },
    {
     "name": "stdout",
     "output_type": "stream",
     "text": [
      "Processing target 'Fluoride' - combinations of size 4 (70 combos)\n"
     ]
    },
    {
     "name": "stderr",
     "output_type": "stream",
     "text": [
      "Size 4 combos: 100%|██████████| 70/70 [00:00<00:00, 3051.42it/s]\n"
     ]
    },
    {
     "name": "stdout",
     "output_type": "stream",
     "text": [
      "Processing target 'Fluoride' - combinations of size 5 (56 combos)\n"
     ]
    },
    {
     "name": "stderr",
     "output_type": "stream",
     "text": [
      "Size 5 combos: 100%|██████████| 56/56 [00:00<00:00, 2960.29it/s]\n"
     ]
    },
    {
     "name": "stdout",
     "output_type": "stream",
     "text": [
      "Processing target 'Fluoride' - combinations of size 6 (28 combos)\n"
     ]
    },
    {
     "name": "stderr",
     "output_type": "stream",
     "text": [
      "Size 6 combos: 100%|██████████| 28/28 [00:00<00:00, 1754.13it/s]\n"
     ]
    },
    {
     "name": "stdout",
     "output_type": "stream",
     "text": [
      "Processing target 'Fluoride' - combinations of size 7 (8 combos)\n"
     ]
    },
    {
     "name": "stderr",
     "output_type": "stream",
     "text": [
      "Size 7 combos: 100%|██████████| 8/8 [00:00<00:00, 2643.33it/s]\n"
     ]
    },
    {
     "name": "stdout",
     "output_type": "stream",
     "text": [
      "Processing target 'Fluoride' - combinations of size 8 (1 combos)\n"
     ]
    },
    {
     "name": "stderr",
     "output_type": "stream",
     "text": [
      "Size 8 combos: 100%|██████████| 1/1 [00:00<?, ?it/s]\n"
     ]
    },
    {
     "name": "stdout",
     "output_type": "stream",
     "text": [
      "No valid models found for target 'Fluoride'.\n",
      "\n",
      "=== Starting processing for target: DO ===\n",
      "Processing target 'DO' - combinations of size 1 (8 combos)\n"
     ]
    },
    {
     "name": "stderr",
     "output_type": "stream",
     "text": [
      "Size 1 combos: 100%|██████████| 8/8 [00:00<00:00, 7994.86it/s]\n"
     ]
    },
    {
     "name": "stdout",
     "output_type": "stream",
     "text": [
      "Processing target 'DO' - combinations of size 2 (28 combos)\n"
     ]
    },
    {
     "name": "stderr",
     "output_type": "stream",
     "text": [
      "Size 2 combos: 100%|██████████| 28/28 [00:00<00:00, 1651.56it/s]\n"
     ]
    },
    {
     "name": "stdout",
     "output_type": "stream",
     "text": [
      "Processing target 'DO' - combinations of size 3 (56 combos)\n"
     ]
    },
    {
     "name": "stderr",
     "output_type": "stream",
     "text": [
      "Size 3 combos: 100%|██████████| 56/56 [00:00<00:00, 3751.25it/s]\n"
     ]
    },
    {
     "name": "stdout",
     "output_type": "stream",
     "text": [
      "Processing target 'DO' - combinations of size 4 (70 combos)\n"
     ]
    },
    {
     "name": "stderr",
     "output_type": "stream",
     "text": [
      "Size 4 combos: 100%|██████████| 70/70 [00:00<00:00, 3190.00it/s]\n"
     ]
    },
    {
     "name": "stdout",
     "output_type": "stream",
     "text": [
      "Processing target 'DO' - combinations of size 5 (56 combos)\n"
     ]
    },
    {
     "name": "stderr",
     "output_type": "stream",
     "text": [
      "Size 5 combos: 100%|██████████| 56/56 [00:00<00:00, 3508.83it/s]\n"
     ]
    },
    {
     "name": "stdout",
     "output_type": "stream",
     "text": [
      "Processing target 'DO' - combinations of size 6 (28 combos)\n"
     ]
    },
    {
     "name": "stderr",
     "output_type": "stream",
     "text": [
      "Size 6 combos: 100%|██████████| 28/28 [00:00<00:00, 2339.87it/s]\n"
     ]
    },
    {
     "name": "stdout",
     "output_type": "stream",
     "text": [
      "Processing target 'DO' - combinations of size 7 (8 combos)\n"
     ]
    },
    {
     "name": "stderr",
     "output_type": "stream",
     "text": [
      "Size 7 combos: 100%|██████████| 8/8 [00:00<00:00, 8426.53it/s]\n"
     ]
    },
    {
     "name": "stdout",
     "output_type": "stream",
     "text": [
      "Processing target 'DO' - combinations of size 8 (1 combos)\n"
     ]
    },
    {
     "name": "stderr",
     "output_type": "stream",
     "text": [
      "Size 8 combos: 100%|██████████| 1/1 [00:00<00:00, 999.60it/s]\n"
     ]
    },
    {
     "name": "stdout",
     "output_type": "stream",
     "text": [
      "No valid models found for target 'DO'.\n",
      "\n",
      "=== Starting processing for target: Residual_C ===\n",
      "Processing target 'Residual_C' - combinations of size 1 (8 combos)\n"
     ]
    },
    {
     "name": "stderr",
     "output_type": "stream",
     "text": [
      "Size 1 combos: 100%|██████████| 8/8 [00:00<00:00, 8019.70it/s]\n"
     ]
    },
    {
     "name": "stdout",
     "output_type": "stream",
     "text": [
      "Processing target 'Residual_C' - combinations of size 2 (28 combos)\n"
     ]
    },
    {
     "name": "stderr",
     "output_type": "stream",
     "text": [
      "Size 2 combos: 100%|██████████| 28/28 [00:00<00:00, 2331.70it/s]\n"
     ]
    },
    {
     "name": "stdout",
     "output_type": "stream",
     "text": [
      "Processing target 'Residual_C' - combinations of size 3 (56 combos)\n"
     ]
    },
    {
     "name": "stderr",
     "output_type": "stream",
     "text": [
      "Size 3 combos: 100%|██████████| 56/56 [00:00<00:00, 3302.32it/s]\n"
     ]
    },
    {
     "name": "stdout",
     "output_type": "stream",
     "text": [
      "Processing target 'Residual_C' - combinations of size 4 (70 combos)\n"
     ]
    },
    {
     "name": "stderr",
     "output_type": "stream",
     "text": [
      "Size 4 combos: 100%|██████████| 70/70 [00:00<00:00, 3347.52it/s]\n"
     ]
    },
    {
     "name": "stdout",
     "output_type": "stream",
     "text": [
      "Processing target 'Residual_C' - combinations of size 5 (56 combos)\n"
     ]
    },
    {
     "name": "stderr",
     "output_type": "stream",
     "text": [
      "Size 5 combos: 100%|██████████| 56/56 [00:00<00:00, 3309.72it/s]\n"
     ]
    },
    {
     "name": "stdout",
     "output_type": "stream",
     "text": [
      "Processing target 'Residual_C' - combinations of size 6 (28 combos)\n"
     ]
    },
    {
     "name": "stderr",
     "output_type": "stream",
     "text": [
      "Size 6 combos: 100%|██████████| 28/28 [00:00<00:00, 2158.83it/s]\n"
     ]
    },
    {
     "name": "stdout",
     "output_type": "stream",
     "text": [
      "Processing target 'Residual_C' - combinations of size 7 (8 combos)\n"
     ]
    },
    {
     "name": "stderr",
     "output_type": "stream",
     "text": [
      "Size 7 combos: 100%|██████████| 8/8 [00:00<?, ?it/s]\n"
     ]
    },
    {
     "name": "stdout",
     "output_type": "stream",
     "text": [
      "Processing target 'Residual_C' - combinations of size 8 (1 combos)\n"
     ]
    },
    {
     "name": "stderr",
     "output_type": "stream",
     "text": [
      "Size 8 combos: 100%|██████████| 1/1 [00:00<?, ?it/s]\n"
     ]
    },
    {
     "name": "stdout",
     "output_type": "stream",
     "text": [
      "No valid models found for target 'Residual_C'.\n",
      "\n",
      "=== Starting processing for target: Phosphorou ===\n",
      "Processing target 'Phosphorou' - combinations of size 1 (8 combos)\n"
     ]
    },
    {
     "name": "stderr",
     "output_type": "stream",
     "text": [
      "Size 1 combos: 100%|██████████| 8/8 [00:00<00:00, 8839.42it/s]\n"
     ]
    },
    {
     "name": "stdout",
     "output_type": "stream",
     "text": [
      "Processing target 'Phosphorou' - combinations of size 2 (28 combos)\n"
     ]
    },
    {
     "name": "stderr",
     "output_type": "stream",
     "text": [
      "Size 2 combos: 100%|██████████| 28/28 [00:00<00:00, 2339.08it/s]\n"
     ]
    },
    {
     "name": "stdout",
     "output_type": "stream",
     "text": [
      "Processing target 'Phosphorou' - combinations of size 3 (56 combos)\n"
     ]
    },
    {
     "name": "stderr",
     "output_type": "stream",
     "text": [
      "Size 3 combos: 100%|██████████| 56/56 [00:00<00:00, 3302.56it/s]\n"
     ]
    },
    {
     "name": "stdout",
     "output_type": "stream",
     "text": [
      "Processing target 'Phosphorou' - combinations of size 4 (70 combos)\n"
     ]
    },
    {
     "name": "stderr",
     "output_type": "stream",
     "text": [
      "Size 4 combos: 100%|██████████| 70/70 [00:00<00:00, 3509.21it/s]"
     ]
    },
    {
     "name": "stdout",
     "output_type": "stream",
     "text": [
      "Processing target 'Phosphorou' - combinations of size 5 (56 combos)\n"
     ]
    },
    {
     "name": "stderr",
     "output_type": "stream",
     "text": [
      "\n",
      "Size 5 combos: 100%|██████████| 56/56 [00:00<00:00, 3531.46it/s]\n"
     ]
    },
    {
     "name": "stdout",
     "output_type": "stream",
     "text": [
      "Processing target 'Phosphorou' - combinations of size 6 (28 combos)\n"
     ]
    },
    {
     "name": "stderr",
     "output_type": "stream",
     "text": [
      "Size 6 combos: 100%|██████████| 28/28 [00:00<00:00, 2164.64it/s]\n"
     ]
    },
    {
     "name": "stdout",
     "output_type": "stream",
     "text": [
      "Processing target 'Phosphorou' - combinations of size 7 (8 combos)\n"
     ]
    },
    {
     "name": "stderr",
     "output_type": "stream",
     "text": [
      "Size 7 combos: 100%|██████████| 8/8 [00:00<?, ?it/s]\n"
     ]
    },
    {
     "name": "stdout",
     "output_type": "stream",
     "text": [
      "Processing target 'Phosphorou' - combinations of size 8 (1 combos)\n"
     ]
    },
    {
     "name": "stderr",
     "output_type": "stream",
     "text": [
      "Size 8 combos: 100%|██████████| 1/1 [00:00<?, ?it/s]\n"
     ]
    },
    {
     "name": "stdout",
     "output_type": "stream",
     "text": [
      "No valid models found for target 'Phosphorou'.\n",
      "\n",
      "=== Starting processing for target: Nitrate ===\n",
      "Processing target 'Nitrate' - combinations of size 1 (8 combos)\n"
     ]
    },
    {
     "name": "stderr",
     "output_type": "stream",
     "text": [
      "Size 1 combos: 100%|██████████| 8/8 [00:00<00:00, 8025.46it/s]\n"
     ]
    },
    {
     "name": "stdout",
     "output_type": "stream",
     "text": [
      "Processing target 'Nitrate' - combinations of size 2 (28 combos)\n"
     ]
    },
    {
     "name": "stderr",
     "output_type": "stream",
     "text": [
      "Size 2 combos: 100%|██████████| 28/28 [00:00<00:00, 2339.55it/s]\n"
     ]
    },
    {
     "name": "stdout",
     "output_type": "stream",
     "text": [
      "Processing target 'Nitrate' - combinations of size 3 (56 combos)\n"
     ]
    },
    {
     "name": "stderr",
     "output_type": "stream",
     "text": [
      "Size 3 combos: 100%|██████████| 56/56 [00:00<00:00, 3295.51it/s]\n"
     ]
    },
    {
     "name": "stdout",
     "output_type": "stream",
     "text": [
      "Processing target 'Nitrate' - combinations of size 4 (70 combos)\n"
     ]
    },
    {
     "name": "stderr",
     "output_type": "stream",
     "text": [
      "Size 4 combos: 100%|██████████| 70/70 [00:00<00:00, 3050.97it/s]\n"
     ]
    },
    {
     "name": "stdout",
     "output_type": "stream",
     "text": [
      "Processing target 'Nitrate' - combinations of size 5 (56 combos)\n"
     ]
    },
    {
     "name": "stderr",
     "output_type": "stream",
     "text": [
      "Size 5 combos: 100%|██████████| 56/56 [00:00<00:00, 3751.79it/s]\n"
     ]
    },
    {
     "name": "stdout",
     "output_type": "stream",
     "text": [
      "Processing target 'Nitrate' - combinations of size 6 (28 combos)\n"
     ]
    },
    {
     "name": "stderr",
     "output_type": "stream",
     "text": [
      "Size 6 combos: 100%|██████████| 28/28 [00:00<00:00, 2166.60it/s]\n"
     ]
    },
    {
     "name": "stdout",
     "output_type": "stream",
     "text": [
      "Processing target 'Nitrate' - combinations of size 7 (8 combos)\n"
     ]
    },
    {
     "name": "stderr",
     "output_type": "stream",
     "text": [
      "Size 7 combos: 100%|██████████| 8/8 [00:00<?, ?it/s]\n"
     ]
    },
    {
     "name": "stdout",
     "output_type": "stream",
     "text": [
      "Processing target 'Nitrate' - combinations of size 8 (1 combos)\n"
     ]
    },
    {
     "name": "stderr",
     "output_type": "stream",
     "text": [
      "Size 8 combos: 100%|██████████| 1/1 [00:00<00:00, 1000.79it/s]\n"
     ]
    },
    {
     "name": "stdout",
     "output_type": "stream",
     "text": [
      "No valid models found for target 'Nitrate'.\n",
      "\n",
      "=== Starting processing for target: Iron ===\n",
      "Processing target 'Iron' - combinations of size 1 (8 combos)\n"
     ]
    },
    {
     "name": "stderr",
     "output_type": "stream",
     "text": [
      "Size 1 combos: 100%|██████████| 8/8 [00:00<00:00, 7758.25it/s]\n"
     ]
    },
    {
     "name": "stdout",
     "output_type": "stream",
     "text": [
      "Checkpoint saved: results_Iron_up_to_size_1.parquet\n",
      "Processing target 'Iron' - combinations of size 2 (28 combos)\n"
     ]
    },
    {
     "name": "stderr",
     "output_type": "stream",
     "text": [
      "Size 2 combos: 100%|██████████| 28/28 [00:00<00:00, 2549.34it/s]\n"
     ]
    },
    {
     "name": "stdout",
     "output_type": "stream",
     "text": [
      "Checkpoint saved: results_Iron_up_to_size_2.parquet\n",
      "Processing target 'Iron' - combinations of size 3 (56 combos)\n"
     ]
    },
    {
     "name": "stderr",
     "output_type": "stream",
     "text": [
      "Size 3 combos: 100%|██████████| 56/56 [00:00<00:00, 3508.93it/s]\n"
     ]
    },
    {
     "name": "stdout",
     "output_type": "stream",
     "text": [
      "Checkpoint saved: results_Iron_up_to_size_3.parquet\n",
      "Processing target 'Iron' - combinations of size 4 (70 combos)\n"
     ]
    },
    {
     "name": "stderr",
     "output_type": "stream",
     "text": [
      "Size 4 combos: 100%|██████████| 70/70 [00:00<00:00, 2599.53it/s]\n"
     ]
    },
    {
     "name": "stdout",
     "output_type": "stream",
     "text": [
      "Checkpoint saved: results_Iron_up_to_size_4.parquet\n",
      "Processing target 'Iron' - combinations of size 5 (56 combos)\n"
     ]
    },
    {
     "name": "stderr",
     "output_type": "stream",
     "text": [
      "Size 5 combos: 100%|██████████| 56/56 [00:00<00:00, 3509.56it/s]\n"
     ]
    },
    {
     "name": "stdout",
     "output_type": "stream",
     "text": [
      "Checkpoint saved: results_Iron_up_to_size_5.parquet\n",
      "Processing target 'Iron' - combinations of size 6 (28 combos)\n"
     ]
    },
    {
     "name": "stderr",
     "output_type": "stream",
     "text": [
      "Size 6 combos: 100%|██████████| 28/28 [00:00<00:00, 2159.71it/s]\n"
     ]
    },
    {
     "name": "stdout",
     "output_type": "stream",
     "text": [
      "Checkpoint saved: results_Iron_up_to_size_6.parquet\n",
      "Processing target 'Iron' - combinations of size 7 (8 combos)\n"
     ]
    },
    {
     "name": "stderr",
     "output_type": "stream",
     "text": [
      "Size 7 combos: 100%|██████████| 8/8 [00:00<00:00, 8027.38it/s]\n"
     ]
    },
    {
     "name": "stdout",
     "output_type": "stream",
     "text": [
      "Checkpoint saved: results_Iron_up_to_size_7.parquet\n",
      "Processing target 'Iron' - combinations of size 8 (1 combos)\n"
     ]
    },
    {
     "name": "stderr",
     "output_type": "stream",
     "text": [
      "Size 8 combos: 100%|██████████| 1/1 [00:00<00:00, 1003.66it/s]\n"
     ]
    },
    {
     "name": "stdout",
     "output_type": "stream",
     "text": [
      "Checkpoint saved: results_Iron_up_to_size_8.parquet\n",
      "\n",
      "=== Starting processing for target: Hardness ===\n",
      "Processing target 'Hardness' - combinations of size 1 (8 combos)\n"
     ]
    },
    {
     "name": "stderr",
     "output_type": "stream",
     "text": [
      "Size 1 combos: 100%|██████████| 8/8 [00:00<00:00, 8029.30it/s]\n"
     ]
    },
    {
     "name": "stdout",
     "output_type": "stream",
     "text": [
      "Processing target 'Hardness' - combinations of size 2 (28 combos)\n"
     ]
    },
    {
     "name": "stderr",
     "output_type": "stream",
     "text": [
      "Size 2 combos: 100%|██████████| 28/28 [00:00<00:00, 2159.19it/s]\n"
     ]
    },
    {
     "name": "stdout",
     "output_type": "stream",
     "text": [
      "Processing target 'Hardness' - combinations of size 3 (56 combos)\n"
     ]
    },
    {
     "name": "stderr",
     "output_type": "stream",
     "text": [
      "Size 3 combos: 100%|██████████| 56/56 [00:00<00:00, 3516.39it/s]\n"
     ]
    },
    {
     "name": "stdout",
     "output_type": "stream",
     "text": [
      "Processing target 'Hardness' - combinations of size 4 (70 combos)\n"
     ]
    },
    {
     "name": "stderr",
     "output_type": "stream",
     "text": [
      "Size 4 combos: 100%|██████████| 70/70 [00:00<00:00, 3195.52it/s]\n"
     ]
    },
    {
     "name": "stdout",
     "output_type": "stream",
     "text": [
      "Processing target 'Hardness' - combinations of size 5 (56 combos)\n"
     ]
    },
    {
     "name": "stderr",
     "output_type": "stream",
     "text": [
      "Size 5 combos: 100%|██████████| 56/56 [00:00<00:00, 3509.51it/s]\n"
     ]
    },
    {
     "name": "stdout",
     "output_type": "stream",
     "text": [
      "Processing target 'Hardness' - combinations of size 6 (28 combos)\n"
     ]
    },
    {
     "name": "stderr",
     "output_type": "stream",
     "text": [
      "Size 6 combos: 100%|██████████| 28/28 [00:00<00:00, 2345.62it/s]\n"
     ]
    },
    {
     "name": "stdout",
     "output_type": "stream",
     "text": [
      "Processing target 'Hardness' - combinations of size 7 (8 combos)\n"
     ]
    },
    {
     "name": "stderr",
     "output_type": "stream",
     "text": [
      "Size 7 combos: 100%|██████████| 8/8 [00:00<?, ?it/s]\n"
     ]
    },
    {
     "name": "stdout",
     "output_type": "stream",
     "text": [
      "Processing target 'Hardness' - combinations of size 8 (1 combos)\n"
     ]
    },
    {
     "name": "stderr",
     "output_type": "stream",
     "text": [
      "Size 8 combos: 100%|██████████| 1/1 [00:00<?, ?it/s]\n"
     ]
    },
    {
     "name": "stdout",
     "output_type": "stream",
     "text": [
      "No valid models found for target 'Hardness'.\n",
      "\n",
      "=== Starting processing for target: Chlorides ===\n",
      "Processing target 'Chlorides' - combinations of size 1 (8 combos)\n"
     ]
    },
    {
     "name": "stderr",
     "output_type": "stream",
     "text": [
      "Size 1 combos: 100%|██████████| 8/8 [00:00<00:00, 8289.14it/s]\n"
     ]
    },
    {
     "name": "stdout",
     "output_type": "stream",
     "text": [
      "Processing target 'Chlorides' - combinations of size 2 (28 combos)\n"
     ]
    },
    {
     "name": "stderr",
     "output_type": "stream",
     "text": [
      "Size 2 combos: 100%|██████████| 28/28 [00:00<00:00, 2339.08it/s]\n"
     ]
    },
    {
     "name": "stdout",
     "output_type": "stream",
     "text": [
      "Processing target 'Chlorides' - combinations of size 3 (56 combos)\n"
     ]
    },
    {
     "name": "stderr",
     "output_type": "stream",
     "text": [
      "Size 3 combos: 100%|██████████| 56/56 [00:00<00:00, 3516.76it/s]\n"
     ]
    },
    {
     "name": "stdout",
     "output_type": "stream",
     "text": [
      "Processing target 'Chlorides' - combinations of size 4 (70 combos)\n"
     ]
    },
    {
     "name": "stderr",
     "output_type": "stream",
     "text": [
      "Size 4 combos: 100%|██████████| 70/70 [00:00<00:00, 3055.90it/s]\n"
     ]
    },
    {
     "name": "stdout",
     "output_type": "stream",
     "text": [
      "Processing target 'Chlorides' - combinations of size 5 (56 combos)\n"
     ]
    },
    {
     "name": "stderr",
     "output_type": "stream",
     "text": [
      "Size 5 combos: 100%|██████████| 56/56 [00:00<00:00, 3515.71it/s]\n"
     ]
    },
    {
     "name": "stdout",
     "output_type": "stream",
     "text": [
      "Processing target 'Chlorides' - combinations of size 6 (28 combos)\n"
     ]
    },
    {
     "name": "stderr",
     "output_type": "stream",
     "text": [
      "Size 6 combos: 100%|██████████| 28/28 [00:00<00:00, 2144.84it/s]\n"
     ]
    },
    {
     "name": "stdout",
     "output_type": "stream",
     "text": [
      "Processing target 'Chlorides' - combinations of size 7 (8 combos)\n"
     ]
    },
    {
     "name": "stderr",
     "output_type": "stream",
     "text": [
      "Size 7 combos: 100%|██████████| 8/8 [00:00<00:00, 8004.40it/s]\n"
     ]
    },
    {
     "name": "stdout",
     "output_type": "stream",
     "text": [
      "Processing target 'Chlorides' - combinations of size 8 (1 combos)\n"
     ]
    },
    {
     "name": "stderr",
     "output_type": "stream",
     "text": [
      "Size 8 combos: 100%|██████████| 1/1 [00:00<00:00, 1001.27it/s]\n"
     ]
    },
    {
     "name": "stdout",
     "output_type": "stream",
     "text": [
      "No valid models found for target 'Chlorides'.\n",
      "\n",
      "=== Starting processing for target: Ammonia ===\n",
      "Processing target 'Ammonia' - combinations of size 1 (8 combos)\n"
     ]
    },
    {
     "name": "stderr",
     "output_type": "stream",
     "text": [
      "Size 1 combos: 100%|██████████| 8/8 [00:00<?, ?it/s]\n"
     ]
    },
    {
     "name": "stdout",
     "output_type": "stream",
     "text": [
      "Processing target 'Ammonia' - combinations of size 2 (28 combos)\n"
     ]
    },
    {
     "name": "stderr",
     "output_type": "stream",
     "text": [
      "Size 2 combos: 100%|██████████| 28/28 [00:00<00:00, 2345.57it/s]\n"
     ]
    },
    {
     "name": "stdout",
     "output_type": "stream",
     "text": [
      "Processing target 'Ammonia' - combinations of size 3 (56 combos)\n"
     ]
    },
    {
     "name": "stderr",
     "output_type": "stream",
     "text": [
      "Size 3 combos: 100%|██████████| 56/56 [00:00<00:00, 3120.60it/s]\n"
     ]
    },
    {
     "name": "stdout",
     "output_type": "stream",
     "text": [
      "Processing target 'Ammonia' - combinations of size 4 (70 combos)\n"
     ]
    },
    {
     "name": "stderr",
     "output_type": "stream",
     "text": [
      "Size 4 combos: 100%|██████████| 70/70 [00:00<00:00, 3051.07it/s]\n"
     ]
    },
    {
     "name": "stdout",
     "output_type": "stream",
     "text": [
      "Processing target 'Ammonia' - combinations of size 5 (56 combos)\n"
     ]
    },
    {
     "name": "stderr",
     "output_type": "stream",
     "text": [
      "Size 5 combos: 100%|██████████| 56/56 [00:00<00:00, 3518.18it/s]\n"
     ]
    },
    {
     "name": "stdout",
     "output_type": "stream",
     "text": [
      "Processing target 'Ammonia' - combinations of size 6 (28 combos)\n"
     ]
    },
    {
     "name": "stderr",
     "output_type": "stream",
     "text": [
      "Size 6 combos: 100%|██████████| 28/28 [00:00<00:00, 2807.70it/s]\n"
     ]
    },
    {
     "name": "stdout",
     "output_type": "stream",
     "text": [
      "Processing target 'Ammonia' - combinations of size 7 (8 combos)\n"
     ]
    },
    {
     "name": "stderr",
     "output_type": "stream",
     "text": [
      "Size 7 combos: 100%|██████████| 8/8 [00:00<?, ?it/s]\n"
     ]
    },
    {
     "name": "stdout",
     "output_type": "stream",
     "text": [
      "Processing target 'Ammonia' - combinations of size 8 (1 combos)\n"
     ]
    },
    {
     "name": "stderr",
     "output_type": "stream",
     "text": [
      "Size 8 combos: 100%|██████████| 1/1 [00:00<?, ?it/s]\n"
     ]
    },
    {
     "name": "stdout",
     "output_type": "stream",
     "text": [
      "No valid models found for target 'Ammonia'.\n",
      "\n",
      "=== Starting processing for target: Trubidity ===\n",
      "Processing target 'Trubidity' - combinations of size 1 (8 combos)\n"
     ]
    },
    {
     "name": "stderr",
     "output_type": "stream",
     "text": [
      "Size 1 combos: 100%|██████████| 8/8 [00:00<00:00, 8060.16it/s]\n"
     ]
    },
    {
     "name": "stdout",
     "output_type": "stream",
     "text": [
      "Checkpoint saved: results_Trubidity_up_to_size_1.parquet\n",
      "Processing target 'Trubidity' - combinations of size 2 (28 combos)\n"
     ]
    },
    {
     "name": "stderr",
     "output_type": "stream",
     "text": [
      "Size 2 combos: 100%|██████████| 28/28 [00:00<00:00, 2009.90it/s]\n"
     ]
    },
    {
     "name": "stdout",
     "output_type": "stream",
     "text": [
      "Checkpoint saved: results_Trubidity_up_to_size_2.parquet\n",
      "Processing target 'Trubidity' - combinations of size 3 (56 combos)\n"
     ]
    },
    {
     "name": "stderr",
     "output_type": "stream",
     "text": [
      "Size 3 combos: 100%|██████████| 56/56 [00:00<00:00, 2673.72it/s]\n"
     ]
    },
    {
     "name": "stdout",
     "output_type": "stream",
     "text": [
      "Checkpoint saved: results_Trubidity_up_to_size_3.parquet\n",
      "Processing target 'Trubidity' - combinations of size 4 (70 combos)\n"
     ]
    },
    {
     "name": "stderr",
     "output_type": "stream",
     "text": [
      "Size 4 combos: 100%|██████████| 70/70 [00:00<00:00, 2699.46it/s]\n"
     ]
    },
    {
     "name": "stdout",
     "output_type": "stream",
     "text": [
      "Checkpoint saved: results_Trubidity_up_to_size_4.parquet\n",
      "Processing target 'Trubidity' - combinations of size 5 (56 combos)\n"
     ]
    },
    {
     "name": "stderr",
     "output_type": "stream",
     "text": [
      "Size 5 combos: 100%|██████████| 56/56 [00:00<00:00, 3509.09it/s]\n"
     ]
    },
    {
     "name": "stdout",
     "output_type": "stream",
     "text": [
      "Checkpoint saved: results_Trubidity_up_to_size_5.parquet\n",
      "Processing target 'Trubidity' - combinations of size 6 (28 combos)\n"
     ]
    },
    {
     "name": "stderr",
     "output_type": "stream",
     "text": [
      "Size 6 combos: 100%|██████████| 28/28 [00:00<00:00, 2159.55it/s]\n"
     ]
    },
    {
     "name": "stdout",
     "output_type": "stream",
     "text": [
      "Checkpoint saved: results_Trubidity_up_to_size_6.parquet\n",
      "Processing target 'Trubidity' - combinations of size 7 (8 combos)\n"
     ]
    },
    {
     "name": "stderr",
     "output_type": "stream",
     "text": [
      "Size 7 combos: 100%|██████████| 8/8 [00:00<00:00, 8021.62it/s]\n"
     ]
    },
    {
     "name": "stdout",
     "output_type": "stream",
     "text": [
      "Checkpoint saved: results_Trubidity_up_to_size_7.parquet\n",
      "Processing target 'Trubidity' - combinations of size 8 (1 combos)\n"
     ]
    },
    {
     "name": "stderr",
     "output_type": "stream",
     "text": [
      "Size 8 combos: 100%|██████████| 1/1 [00:00<?, ?it/s]\n"
     ]
    },
    {
     "name": "stdout",
     "output_type": "stream",
     "text": [
      "Checkpoint saved: results_Trubidity_up_to_size_8.parquet\n",
      "\n",
      "=== Starting processing for target: Alkalinity ===\n",
      "Processing target 'Alkalinity' - combinations of size 1 (8 combos)\n"
     ]
    },
    {
     "name": "stderr",
     "output_type": "stream",
     "text": [
      "Size 1 combos: 100%|██████████| 8/8 [00:00<00:00, 8023.54it/s]\n"
     ]
    },
    {
     "name": "stdout",
     "output_type": "stream",
     "text": [
      "Processing target 'Alkalinity' - combinations of size 2 (28 combos)\n"
     ]
    },
    {
     "name": "stderr",
     "output_type": "stream",
     "text": [
      "Size 2 combos: 100%|██████████| 28/28 [00:00<00:00, 1559.66it/s]\n"
     ]
    },
    {
     "name": "stdout",
     "output_type": "stream",
     "text": [
      "Processing target 'Alkalinity' - combinations of size 3 (56 combos)\n"
     ]
    },
    {
     "name": "stderr",
     "output_type": "stream",
     "text": [
      "Size 3 combos: 100%|██████████| 56/56 [00:00<00:00, 3302.56it/s]\n"
     ]
    },
    {
     "name": "stdout",
     "output_type": "stream",
     "text": [
      "Processing target 'Alkalinity' - combinations of size 4 (70 combos)\n"
     ]
    },
    {
     "name": "stderr",
     "output_type": "stream",
     "text": [
      "Size 4 combos: 100%|██████████| 70/70 [00:00<00:00, 3348.44it/s]\n"
     ]
    },
    {
     "name": "stdout",
     "output_type": "stream",
     "text": [
      "Processing target 'Alkalinity' - combinations of size 5 (56 combos)\n"
     ]
    },
    {
     "name": "stderr",
     "output_type": "stream",
     "text": [
      "Size 5 combos: 100%|██████████| 56/56 [00:00<00:00, 3302.04it/s]\n"
     ]
    },
    {
     "name": "stdout",
     "output_type": "stream",
     "text": [
      "Processing target 'Alkalinity' - combinations of size 6 (28 combos)\n"
     ]
    },
    {
     "name": "stderr",
     "output_type": "stream",
     "text": [
      "Size 6 combos: 100%|██████████| 28/28 [00:00<00:00, 2339.41it/s]\n"
     ]
    },
    {
     "name": "stdout",
     "output_type": "stream",
     "text": [
      "Processing target 'Alkalinity' - combinations of size 7 (8 combos)\n"
     ]
    },
    {
     "name": "stderr",
     "output_type": "stream",
     "text": [
      "Size 7 combos: 100%|██████████| 8/8 [00:00<?, ?it/s]\n"
     ]
    },
    {
     "name": "stdout",
     "output_type": "stream",
     "text": [
      "Processing target 'Alkalinity' - combinations of size 8 (1 combos)\n"
     ]
    },
    {
     "name": "stderr",
     "output_type": "stream",
     "text": [
      "Size 8 combos: 100%|██████████| 1/1 [00:00<?, ?it/s]\n"
     ]
    },
    {
     "name": "stdout",
     "output_type": "stream",
     "text": [
      "No valid models found for target 'Alkalinity'.\n",
      "\n",
      "=== Starting processing for target: EC ===\n",
      "Processing target 'EC' - combinations of size 1 (8 combos)\n"
     ]
    },
    {
     "name": "stderr",
     "output_type": "stream",
     "text": [
      "Size 1 combos: 100%|██████████| 8/8 [00:00<?, ?it/s]\n"
     ]
    },
    {
     "name": "stdout",
     "output_type": "stream",
     "text": [
      "Processing target 'EC' - combinations of size 2 (28 combos)\n"
     ]
    },
    {
     "name": "stderr",
     "output_type": "stream",
     "text": [
      "Size 2 combos: 100%|██████████| 28/28 [00:00<00:00, 2159.03it/s]\n"
     ]
    },
    {
     "name": "stdout",
     "output_type": "stream",
     "text": [
      "Processing target 'EC' - combinations of size 3 (56 combos)\n"
     ]
    },
    {
     "name": "stderr",
     "output_type": "stream",
     "text": [
      "Size 3 combos: 100%|██████████| 56/56 [00:00<00:00, 3302.65it/s]\n"
     ]
    },
    {
     "name": "stdout",
     "output_type": "stream",
     "text": [
      "Processing target 'EC' - combinations of size 4 (70 combos)\n"
     ]
    },
    {
     "name": "stderr",
     "output_type": "stream",
     "text": [
      "Size 4 combos: 100%|██████████| 70/70 [00:00<00:00, 2931.35it/s]\n"
     ]
    },
    {
     "name": "stdout",
     "output_type": "stream",
     "text": [
      "Processing target 'EC' - combinations of size 5 (56 combos)\n"
     ]
    },
    {
     "name": "stderr",
     "output_type": "stream",
     "text": [
      "Size 5 combos: 100%|██████████| 56/56 [00:00<00:00, 3514.92it/s]\n"
     ]
    },
    {
     "name": "stdout",
     "output_type": "stream",
     "text": [
      "Processing target 'EC' - combinations of size 6 (28 combos)\n"
     ]
    },
    {
     "name": "stderr",
     "output_type": "stream",
     "text": [
      "Size 6 combos: 100%|██████████| 28/28 [00:00<00:00, 1559.63it/s]\n"
     ]
    },
    {
     "name": "stdout",
     "output_type": "stream",
     "text": [
      "Processing target 'EC' - combinations of size 7 (8 combos)\n"
     ]
    },
    {
     "name": "stderr",
     "output_type": "stream",
     "text": [
      "Size 7 combos: 100%|██████████| 8/8 [00:00<00:00, 8013.96it/s]\n"
     ]
    },
    {
     "name": "stdout",
     "output_type": "stream",
     "text": [
      "Processing target 'EC' - combinations of size 8 (1 combos)\n"
     ]
    },
    {
     "name": "stderr",
     "output_type": "stream",
     "text": [
      "Size 8 combos: 100%|██████████| 1/1 [00:00<00:00, 1002.94it/s]\n"
     ]
    },
    {
     "name": "stdout",
     "output_type": "stream",
     "text": [
      "No valid models found for target 'EC'.\n",
      "\n",
      "=== Starting processing for target: TDS ===\n",
      "Processing target 'TDS' - combinations of size 1 (8 combos)\n"
     ]
    },
    {
     "name": "stderr",
     "output_type": "stream",
     "text": [
      "Size 1 combos: 100%|██████████| 8/8 [00:00<?, ?it/s]\n"
     ]
    },
    {
     "name": "stdout",
     "output_type": "stream",
     "text": [
      "Processing target 'TDS' - combinations of size 2 (28 combos)\n"
     ]
    },
    {
     "name": "stderr",
     "output_type": "stream",
     "text": [
      "Size 2 combos: 100%|██████████| 28/28 [00:00<00:00, 2009.59it/s]\n"
     ]
    },
    {
     "name": "stdout",
     "output_type": "stream",
     "text": [
      "Processing target 'TDS' - combinations of size 3 (56 combos)\n"
     ]
    },
    {
     "name": "stderr",
     "output_type": "stream",
     "text": [
      "Size 3 combos: 100%|██████████| 56/56 [00:00<00:00, 2807.33it/s]\n"
     ]
    },
    {
     "name": "stdout",
     "output_type": "stream",
     "text": [
      "Processing target 'TDS' - combinations of size 4 (70 combos)\n"
     ]
    },
    {
     "name": "stderr",
     "output_type": "stream",
     "text": [
      "Size 4 combos: 100%|██████████| 70/70 [00:00<00:00, 1799.60it/s]\n"
     ]
    },
    {
     "name": "stdout",
     "output_type": "stream",
     "text": [
      "Processing target 'TDS' - combinations of size 5 (56 combos)\n"
     ]
    },
    {
     "name": "stderr",
     "output_type": "stream",
     "text": [
      "Size 5 combos: 100%|██████████| 56/56 [00:00<00:00, 2159.75it/s]\n"
     ]
    },
    {
     "name": "stdout",
     "output_type": "stream",
     "text": [
      "Processing target 'TDS' - combinations of size 6 (28 combos)\n"
     ]
    },
    {
     "name": "stderr",
     "output_type": "stream",
     "text": [
      "Size 6 combos: 100%|██████████| 28/28 [00:00<00:00, 1877.10it/s]\n"
     ]
    },
    {
     "name": "stdout",
     "output_type": "stream",
     "text": [
      "Processing target 'TDS' - combinations of size 7 (8 combos)\n"
     ]
    },
    {
     "name": "stderr",
     "output_type": "stream",
     "text": [
      "Size 7 combos: 100%|██████████| 8/8 [00:00<00:00, 7994.86it/s]\n"
     ]
    },
    {
     "name": "stdout",
     "output_type": "stream",
     "text": [
      "Processing target 'TDS' - combinations of size 8 (1 combos)\n"
     ]
    },
    {
     "name": "stderr",
     "output_type": "stream",
     "text": [
      "Size 8 combos: 100%|██████████| 1/1 [00:00<?, ?it/s]"
     ]
    },
    {
     "name": "stdout",
     "output_type": "stream",
     "text": [
      "No valid models found for target 'TDS'.\n",
      "Results saved to ols_model_results.csv (0.00 MB)\n",
      "All computations completed.\n"
     ]
    },
    {
     "name": "stderr",
     "output_type": "stream",
     "text": [
      "\n"
     ]
    }
   ],
   "source": [
    "import pandas as pd\n",
    "import statsmodels.api as sm\n",
    "from itertools import combinations\n",
    "from sklearn.model_selection import KFold\n",
    "from sklearn.metrics import mean_squared_error\n",
    "from math import sqrt\n",
    "from joblib import Parallel, delayed\n",
    "from tqdm import tqdm\n",
    "import os\n",
    "\n",
    "def evaluate_combo(X, y, combo, cv_splits=5):\n",
    "    \"\"\"\n",
    "    Evaluate a single variable combination with k-fold CV.\n",
    "    Fits OLS on training folds, checks p-values, computes RMSE and adjusted R² on each fold.\n",
    "    Returns metrics if all predictor p-values < 0.05 in each fold; else None.\n",
    "    \"\"\"\n",
    "    X_sub = X[list(combo)]\n",
    "    X_sub = sm.add_constant(X_sub)\n",
    "    kf = KFold(n_splits=cv_splits, shuffle=True, random_state=42)\n",
    "\n",
    "    rmses = []\n",
    "    adj_r2s = []\n",
    "    p_values_valid = True\n",
    "    coefs = None\n",
    "    pvals = None\n",
    "\n",
    "    for train_idx, test_idx in kf.split(X_sub):\n",
    "        X_train, X_test = X_sub.iloc[train_idx], X_sub.iloc[test_idx]\n",
    "        y_train, y_test = y.iloc[train_idx], y.iloc[test_idx]\n",
    "\n",
    "        try:\n",
    "            model = sm.OLS(y_train, X_train).fit()\n",
    "        except Exception as e:\n",
    "            # Model failed to fit, discard this combo\n",
    "            p_values_valid = False\n",
    "            break\n",
    "\n",
    "        # Check all predictors (except const) p-values < 0.05\n",
    "        if (model.pvalues.drop('const') >= 0.05).any():\n",
    "            p_values_valid = False\n",
    "            break\n",
    "\n",
    "        preds = model.predict(X_test)\n",
    "        rmse = sqrt(mean_squared_error(y_test, preds))\n",
    "        rmses.append(rmse)\n",
    "        adj_r2s.append(model.rsquared_adj)\n",
    "\n",
    "        # Keep last fold’s coefficients and p-values for reporting\n",
    "        coefs = model.params.to_dict()\n",
    "        pvals = model.pvalues.to_dict()\n",
    "\n",
    "    if not p_values_valid:\n",
    "        return None\n",
    "\n",
    "    return {\n",
    "        'variables': combo,\n",
    "        'mean_cv_rmse': sum(rmses) / len(rmses),\n",
    "        'mean_cv_adj_r2': sum(adj_r2s) / len(adj_r2s),\n",
    "        'coefficients': coefs,\n",
    "        'pvalues': pvals\n",
    "    }\n",
    "\n",
    "def process_target(X, y, target_name, n_jobs=4, max_combination_size=None):\n",
    "    \"\"\"\n",
    "    Process all variable combinations for a single target variable.\n",
    "    Saves intermediate results after each combination size.\n",
    "    Returns a DataFrame of results.\n",
    "    \"\"\"\n",
    "    results = []\n",
    "    max_size = max_combination_size or len(X.columns)\n",
    "\n",
    "    for size in range(1, max_size + 1):\n",
    "        combos = list(combinations(X.columns, size))\n",
    "        print(f\"Processing target '{target_name}' - combinations of size {size} ({len(combos)} combos)\")\n",
    "        \n",
    "        batch_results = Parallel(n_jobs=n_jobs)(\n",
    "            delayed(evaluate_combo)(X, y, combo) for combo in tqdm(combos, desc=f\"Size {size} combos\")\n",
    "        )\n",
    "\n",
    "        # Filter out None results (failed p-value or fit)\n",
    "        batch_results = [res for res in batch_results if res is not None]\n",
    "\n",
    "        # Add target name for each result\n",
    "        for res in batch_results:\n",
    "            res['target'] = target_name\n",
    "\n",
    "        results.extend(batch_results)\n",
    "\n",
    "        # Save checkpoint after each size\n",
    "        if results:\n",
    "            df = pd.DataFrame(results)\n",
    "            checkpoint_path = f'results_{target_name}_up_to_size_{size}.parquet'\n",
    "            df.to_parquet(checkpoint_path, index=False)\n",
    "            print(f\"Checkpoint saved: {checkpoint_path}\")\n",
    "\n",
    "    if results:\n",
    "        return pd.DataFrame(results)\n",
    "    else:\n",
    "        return pd.DataFrame()  # empty if no valid models\n",
    "\n",
    "def save_results(df, filename_csv='ols_model_results.csv', filename_parquet='ols_model_results.parquet'):\n",
    "    \"\"\"\n",
    "    Save the results DataFrame to CSV or Parquet depending on size.\n",
    "    Prints status messages.\n",
    "    \"\"\"\n",
    "    if df.empty:\n",
    "        print(\"No valid models found.\")\n",
    "        return\n",
    "\n",
    "    df.to_csv(filename_csv, index=False)\n",
    "    file_size = os.path.getsize(filename_csv)\n",
    "    size_mb = file_size / (1024*1024)\n",
    "\n",
    "    if size_mb > 5:  # 5 MB threshold for switching to Parquet\n",
    "        df.to_parquet(filename_parquet, index=False)\n",
    "        os.remove(filename_csv)\n",
    "        print(f\"Results saved to {filename_parquet} ({size_mb:.2f} MB)\")\n",
    "    else:\n",
    "        print(f\"Results saved to {filename_csv} ({size_mb:.2f} MB)\")\n",
    "\n",
    "def main():\n",
    "    # Load data\n",
    "    X = pd.read_excel(r\"C:\\Users\\Administrator\\Desktop\\dataforcode\\LS8,9(GYr).xlsx\")\n",
    "    Y = pd.read_csv(r\"C:\\Users\\Administrator\\Desktop\\code\\band to band\\landsat8,9\\lparameters.csv.\")\n",
    "\n",
    "    all_results = []\n",
    "\n",
    "    # You can adjust n_jobs based on your CPU cores\n",
    "    n_jobs = 6\n",
    "    max_comb_size = None  # or set to e.g. 5 to limit computation\n",
    "\n",
    "    for target in Y.columns:\n",
    "        print(f\"\\n=== Starting processing for target: {target} ===\")\n",
    "        y = Y[target]\n",
    "        df_target_results = process_target(X, y, target, n_jobs=n_jobs, max_combination_size=max_comb_size)\n",
    "        if not df_target_results.empty:\n",
    "            all_results.append(df_target_results)\n",
    "        else:\n",
    "            print(f\"No valid models found for target '{target}'.\")\n",
    "\n",
    "    if all_results:\n",
    "        final_df = pd.concat(all_results, ignore_index=True)\n",
    "        save_results(final_df)\n",
    "    else:\n",
    "        print(\"No valid models found for any target.\")\n",
    "\n",
    "    print(\"All computations completed.\")\n",
    "\n",
    "if __name__ == \"__main__\":\n",
    "    main()\n"
   ]
  },
  {
   "cell_type": "code",
   "execution_count": null,
   "id": "21a62812-bcb6-48a7-ab15-56e94a06f76e",
   "metadata": {},
   "outputs": [],
   "source": []
  }
 ],
 "metadata": {
  "kernelspec": {
   "display_name": "Python [conda env:base] *",
   "language": "python",
   "name": "conda-base-py"
  },
  "language_info": {
   "codemirror_mode": {
    "name": "ipython",
    "version": 3
   },
   "file_extension": ".py",
   "mimetype": "text/x-python",
   "name": "python",
   "nbconvert_exporter": "python",
   "pygments_lexer": "ipython3",
   "version": "3.12.7"
  }
 },
 "nbformat": 4,
 "nbformat_minor": 5
}
